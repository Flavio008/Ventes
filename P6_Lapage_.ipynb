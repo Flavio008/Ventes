{
 "cells": [
  {
   "cell_type": "markdown",
   "id": "74265439",
   "metadata": {},
   "source": [
    "# PROJECT 6\n",
    "\n",
    "### <span style=\"color:dark green\">Analysez les ventes d'une librairie avec Python"
   ]
  },
  {
   "cell_type": "markdown",
   "id": "0b9893f9",
   "metadata": {},
   "source": [
    "# <span style=\"color:dark green\">Problématique</span>\n",
    "\n",
    "1.Exploration des données.\n",
    "\n",
    "2.Nettoyage des données.\n",
    "\n",
    "3.Analyses des différents indicateurs de vente (Demande d'Antoine)\n",
    "\n",
    "4.Comportement de nos clients en ligne (Demande de Julie)"
   ]
  },
  {
   "cell_type": "markdown",
   "id": "d10b524d",
   "metadata": {},
   "source": [
    "# <span style=\"color:dark green\"> SYNTHÈSE</span>\n",
    "\n",
    "Après 2 ans d'ouvrir un site de ventes en ligne, la librairie Lapage; nous allons vérifier, en tant que Data analyst, s'il existe un lien entre le sexe des clients et les catégories de produits achetés, l'âge et le montant total des achats, la fréquence d'achat ou encore la taille du panier moyen..\n"
   ]
  },
  {
   "cell_type": "markdown",
   "id": "a0c087b2",
   "metadata": {},
   "source": [
    "## <span style=\"color:dark green\">Librairies\n",
    "\n",
    "\n",
    "Les librairies utilisées dans ce document sont :"
   ]
  },
  {
   "cell_type": "code",
   "execution_count": 3,
   "id": "3ec0c717",
   "metadata": {},
   "outputs": [],
   "source": [
    "# # Traitement des données\n",
    "# # ==============================================================================\n",
    "import pandas as pd\n",
    "import numpy as np\n",
    "\n",
    "# # Graphiques\n",
    "# # ==============================================================================\n",
    "import matplotlib.pyplot as plt\n",
    "import seaborn as sns\n",
    "\n",
    "# # Fonctions statistiques\n",
    "# # ==============================================================================\n",
    "import scipy.stats as st\n",
    "import math as mth"
   ]
  },
  {
   "cell_type": "code",
   "execution_count": 4,
   "id": "275a94e3",
   "metadata": {},
   "outputs": [],
   "source": [
    "# # # Paramètres graphiques\n",
    "# # # ==============================================================================\n",
    "# plt.style.use('ggplot')\n",
    "# plt.rcParams['figure.figsize'] = [14, 7]\n",
    "# plt.rcParams['font.size'] = 16"
   ]
  },
  {
   "cell_type": "markdown",
   "id": "38e8068e",
   "metadata": {},
   "source": [
    "Les données utilisées dans ce document sont: customers, products et transactions.\n",
    "\n",
    "Les données sont fournies par l'équipe marketing de la Librairie Lapage."
   ]
  },
  {
   "cell_type": "code",
   "execution_count": 5,
   "id": "2d5632d3",
   "metadata": {},
   "outputs": [],
   "source": [
    "df_customers = pd.read_csv(r\"C:\\Users\\s\\Desktop\\P_6\\DAN-P6-donnees\\customers.csv\")\n",
    "df_products = pd.read_csv(r\"C:\\Users\\s\\Desktop\\P_6\\DAN-P6-donnees\\products.csv\")\n",
    "df_transactions = pd.read_csv(r\"C:\\Users\\s\\Desktop\\P_6\\DAN-P6-donnees\\transactions.csv\")\n"
   ]
  },
  {
   "cell_type": "markdown",
   "id": "8d04be86",
   "metadata": {},
   "source": [
    "> ## <span style=\"color:dark green\">1 Exploration des données "
   ]
  },
  {
   "cell_type": "code",
   "execution_count": 6,
   "id": "1c53caec",
   "metadata": {},
   "outputs": [
    {
     "name": "stdout",
     "output_type": "stream",
     "text": [
      "<class 'pandas.core.frame.DataFrame'>\n",
      "RangeIndex: 3287 entries, 0 to 3286\n",
      "Data columns (total 3 columns):\n",
      " #   Column   Non-Null Count  Dtype  \n",
      "---  ------   --------------  -----  \n",
      " 0   id_prod  3287 non-null   object \n",
      " 1   price    3287 non-null   float64\n",
      " 2   categ    3287 non-null   int64  \n",
      "dtypes: float64(1), int64(1), object(1)\n",
      "memory usage: 77.2+ KB\n",
      "None\n",
      "----\n",
      "<class 'pandas.core.frame.DataFrame'>\n",
      "RangeIndex: 8623 entries, 0 to 8622\n",
      "Data columns (total 3 columns):\n",
      " #   Column     Non-Null Count  Dtype \n",
      "---  ------     --------------  ----- \n",
      " 0   client_id  8623 non-null   object\n",
      " 1   sex        8623 non-null   object\n",
      " 2   birth      8623 non-null   int64 \n",
      "dtypes: int64(1), object(2)\n",
      "memory usage: 202.2+ KB\n",
      "None\n",
      "----\n",
      "<class 'pandas.core.frame.DataFrame'>\n",
      "RangeIndex: 679532 entries, 0 to 679531\n",
      "Data columns (total 4 columns):\n",
      " #   Column      Non-Null Count   Dtype \n",
      "---  ------      --------------   ----- \n",
      " 0   id_prod     679532 non-null  object\n",
      " 1   date        679532 non-null  object\n",
      " 2   session_id  679532 non-null  object\n",
      " 3   client_id   679532 non-null  object\n",
      "dtypes: object(4)\n",
      "memory usage: 20.7+ MB\n",
      "None\n"
     ]
    }
   ],
   "source": [
    "# # Visualisation rapide de nos 3 dataframes\n",
    "# # ==============================================================================\n",
    "print(df_products.info())\n",
    "print(\"----\")\n",
    "print(df_customers.info())\n",
    "print(\"----\")\n",
    "print(df_transactions.info())"
   ]
  },
  {
   "cell_type": "markdown",
   "id": "8e0e9685",
   "metadata": {},
   "source": [
    "> # <span style=\"color:dark green\">2 Nettoyage des données\n",
    "\n",
    ">> ## <span style=\"color:dark green\">2.1 Traitement des valeurs manquantes"
   ]
  },
  {
   "cell_type": "code",
   "execution_count": 7,
   "id": "0741ad8f",
   "metadata": {},
   "outputs": [
    {
     "data": {
      "text/plain": [
       "id_prod    False\n",
       "price      False\n",
       "categ      False\n",
       "dtype: bool"
      ]
     },
     "execution_count": 7,
     "metadata": {},
     "output_type": "execute_result"
    }
   ],
   "source": [
    "# # Méthode .isnull() (ou .isna())sur les données produits, renvoi de booléens par colonne\n",
    "# # ==============================================================================\n",
    "df_products.isnull().any()"
   ]
  },
  {
   "cell_type": "markdown",
   "id": "06458806",
   "metadata": {},
   "source": [
    "Aucune valeur manquante dans df_products"
   ]
  },
  {
   "cell_type": "code",
   "execution_count": 8,
   "id": "22621b93",
   "metadata": {},
   "outputs": [
    {
     "data": {
      "text/plain": [
       "client_id    False\n",
       "sex          False\n",
       "birth        False\n",
       "dtype: bool"
      ]
     },
     "execution_count": 8,
     "metadata": {},
     "output_type": "execute_result"
    }
   ],
   "source": [
    "# # Méthode .isnull() sur les données clients, renvoi de booléens par colonne\n",
    "# # ==============================================================================\n",
    "df_customers.isnull().any()"
   ]
  },
  {
   "cell_type": "markdown",
   "id": "ff665e96",
   "metadata": {},
   "source": [
    "Aucune valeur manquante dans df_customers."
   ]
  },
  {
   "cell_type": "code",
   "execution_count": 9,
   "id": "c910dae5",
   "metadata": {},
   "outputs": [
    {
     "data": {
      "text/plain": [
       "id_prod       False\n",
       "date          False\n",
       "session_id    False\n",
       "client_id     False\n",
       "dtype: bool"
      ]
     },
     "execution_count": 9,
     "metadata": {},
     "output_type": "execute_result"
    }
   ],
   "source": [
    "# # Méthode .isnull() sur les données transactions, renvoi de booléens par colonne\n",
    "# # ==============================================================================\n",
    "df_transactions.isnull().any()"
   ]
  },
  {
   "cell_type": "markdown",
   "id": "dc5fb890",
   "metadata": {},
   "source": [
    "Aucune valeur manquante dans df_transactions."
   ]
  },
  {
   "cell_type": "markdown",
   "id": "854559ed",
   "metadata": {},
   "source": [
    ">>## <span style=\"color:dark green\">2.2 Traitement des valeurs aberrantes et atypiques\n",
    "\n",
    "* Par valeur aberrante, on s'attend à identifier des valeurs vraisemblablement fausses, et pour les valeurs atypiques elles restent possibles, pas forcément fausses."
   ]
  },
  {
   "cell_type": "markdown",
   "id": "bb4a12af",
   "metadata": {},
   "source": [
    ">>>### <span style=\"color:dark green\">2.2.1 Analyse et correction éventuelle du dataframe df_products"
   ]
  },
  {
   "cell_type": "code",
   "execution_count": 10,
   "id": "0e34b322",
   "metadata": {},
   "outputs": [
    {
     "data": {
      "text/html": [
       "<div>\n",
       "<style scoped>\n",
       "    .dataframe tbody tr th:only-of-type {\n",
       "        vertical-align: middle;\n",
       "    }\n",
       "\n",
       "    .dataframe tbody tr th {\n",
       "        vertical-align: top;\n",
       "    }\n",
       "\n",
       "    .dataframe thead th {\n",
       "        text-align: right;\n",
       "    }\n",
       "</style>\n",
       "<table border=\"1\" class=\"dataframe\">\n",
       "  <thead>\n",
       "    <tr style=\"text-align: right;\">\n",
       "      <th></th>\n",
       "      <th>id_prod</th>\n",
       "      <th>price</th>\n",
       "      <th>categ</th>\n",
       "    </tr>\n",
       "  </thead>\n",
       "  <tbody>\n",
       "    <tr>\n",
       "      <th>731</th>\n",
       "      <td>T_0</td>\n",
       "      <td>-1.00</td>\n",
       "      <td>0</td>\n",
       "    </tr>\n",
       "    <tr>\n",
       "      <th>3188</th>\n",
       "      <td>2_99</td>\n",
       "      <td>84.99</td>\n",
       "      <td>2</td>\n",
       "    </tr>\n",
       "    <tr>\n",
       "      <th>3088</th>\n",
       "      <td>2_98</td>\n",
       "      <td>149.74</td>\n",
       "      <td>2</td>\n",
       "    </tr>\n",
       "    <tr>\n",
       "      <th>2698</th>\n",
       "      <td>2_97</td>\n",
       "      <td>160.99</td>\n",
       "      <td>2</td>\n",
       "    </tr>\n",
       "    <tr>\n",
       "      <th>2576</th>\n",
       "      <td>2_96</td>\n",
       "      <td>47.91</td>\n",
       "      <td>2</td>\n",
       "    </tr>\n",
       "  </tbody>\n",
       "</table>\n",
       "</div>"
      ],
      "text/plain": [
       "     id_prod   price  categ\n",
       "731      T_0   -1.00      0\n",
       "3188    2_99   84.99      2\n",
       "3088    2_98  149.74      2\n",
       "2698    2_97  160.99      2\n",
       "2576    2_96   47.91      2"
      ]
     },
     "execution_count": 10,
     "metadata": {},
     "output_type": "execute_result"
    }
   ],
   "source": [
    "# # Tri rapide sur les 5 premières lignes du dataframe df_product (méthode .sort_values())\n",
    "# # ==============================================================================\n",
    "df_products.sort_values('id_prod', ascending = False).head()"
   ]
  },
  {
   "cell_type": "code",
   "execution_count": 11,
   "id": "5fd86057",
   "metadata": {},
   "outputs": [
    {
     "data": {
      "text/html": [
       "<div>\n",
       "<style scoped>\n",
       "    .dataframe tbody tr th:only-of-type {\n",
       "        vertical-align: middle;\n",
       "    }\n",
       "\n",
       "    .dataframe tbody tr th {\n",
       "        vertical-align: top;\n",
       "    }\n",
       "\n",
       "    .dataframe thead th {\n",
       "        text-align: right;\n",
       "    }\n",
       "</style>\n",
       "<table border=\"1\" class=\"dataframe\">\n",
       "  <thead>\n",
       "    <tr style=\"text-align: right;\">\n",
       "      <th></th>\n",
       "      <th>id_prod</th>\n",
       "      <th>price</th>\n",
       "      <th>categ</th>\n",
       "    </tr>\n",
       "  </thead>\n",
       "  <tbody>\n",
       "    <tr>\n",
       "      <th>922</th>\n",
       "      <td>0_1000</td>\n",
       "      <td>6.84</td>\n",
       "      <td>0</td>\n",
       "    </tr>\n",
       "    <tr>\n",
       "      <th>663</th>\n",
       "      <td>0_100</td>\n",
       "      <td>20.60</td>\n",
       "      <td>0</td>\n",
       "    </tr>\n",
       "    <tr>\n",
       "      <th>2691</th>\n",
       "      <td>0_10</td>\n",
       "      <td>17.95</td>\n",
       "      <td>0</td>\n",
       "    </tr>\n",
       "    <tr>\n",
       "      <th>803</th>\n",
       "      <td>0_1</td>\n",
       "      <td>10.99</td>\n",
       "      <td>0</td>\n",
       "    </tr>\n",
       "    <tr>\n",
       "      <th>1001</th>\n",
       "      <td>0_0</td>\n",
       "      <td>3.75</td>\n",
       "      <td>0</td>\n",
       "    </tr>\n",
       "  </tbody>\n",
       "</table>\n",
       "</div>"
      ],
      "text/plain": [
       "     id_prod  price  categ\n",
       "922   0_1000   6.84      0\n",
       "663    0_100  20.60      0\n",
       "2691    0_10  17.95      0\n",
       "803      0_1  10.99      0\n",
       "1001     0_0   3.75      0"
      ]
     },
     "execution_count": 11,
     "metadata": {},
     "output_type": "execute_result"
    }
   ],
   "source": [
    "# # Tri rapide sur les 5 dernières lignes du dataframe df_products\n",
    "# # ==============================================================================\n",
    "df_products.sort_values('id_prod', ascending = False).tail()"
   ]
  },
  {
   "cell_type": "markdown",
   "id": "977c00ae",
   "metadata": {},
   "source": [
    "Ligne index 731 id_prod T_0 et price ne sont pas acceptables (valeur test négative)."
   ]
  },
  {
   "cell_type": "code",
   "execution_count": 12,
   "id": "19aa1450",
   "metadata": {},
   "outputs": [
    {
     "data": {
      "text/html": [
       "<div>\n",
       "<style scoped>\n",
       "    .dataframe tbody tr th:only-of-type {\n",
       "        vertical-align: middle;\n",
       "    }\n",
       "\n",
       "    .dataframe tbody tr th {\n",
       "        vertical-align: top;\n",
       "    }\n",
       "\n",
       "    .dataframe thead th {\n",
       "        text-align: right;\n",
       "    }\n",
       "</style>\n",
       "<table border=\"1\" class=\"dataframe\">\n",
       "  <thead>\n",
       "    <tr style=\"text-align: right;\">\n",
       "      <th></th>\n",
       "      <th>id_prod</th>\n",
       "      <th>price</th>\n",
       "      <th>categ</th>\n",
       "    </tr>\n",
       "  </thead>\n",
       "  <tbody>\n",
       "    <tr>\n",
       "      <th>731</th>\n",
       "      <td>T_0</td>\n",
       "      <td>-1.0</td>\n",
       "      <td>0</td>\n",
       "    </tr>\n",
       "  </tbody>\n",
       "</table>\n",
       "</div>"
      ],
      "text/plain": [
       "    id_prod  price  categ\n",
       "731     T_0   -1.0      0"
      ]
     },
     "execution_count": 12,
     "metadata": {},
     "output_type": "execute_result"
    }
   ],
   "source": [
    "# # Vérification par restriction des valeurs négatives (ou nulles) dans df_products\n",
    "# # ==============================================================================\n",
    "df_products[df_products.price <= 0]"
   ]
  },
  {
   "cell_type": "code",
   "execution_count": 13,
   "id": "752b5cc3",
   "metadata": {},
   "outputs": [],
   "source": [
    "# # Suppression de la ligne index 731, la valeur n'a aucune signification logique\n",
    "# # ==============================================================================\n",
    "df_products = df_products[df_products.id_prod != 'T_0']"
   ]
  },
  {
   "cell_type": "markdown",
   "id": "16f52b00",
   "metadata": {},
   "source": [
    "La liste des produits vendus recense une seule valeur négative (- 1€) très certainement liée à une transaction de test."
   ]
  },
  {
   "cell_type": "code",
   "execution_count": 14,
   "id": "8cf513d4",
   "metadata": {},
   "outputs": [
    {
     "name": "stdout",
     "output_type": "stream",
     "text": [
      "0.62\n",
      "300.0\n"
     ]
    }
   ],
   "source": [
    "# # Vérification rapide de la cohérence des prix produits\n",
    "# # ==============================================================================\n",
    "print(df_products.price.min())\n",
    "print(df_products.price.max())"
   ]
  },
  {
   "cell_type": "markdown",
   "id": "b0dc668f",
   "metadata": {},
   "source": [
    "Aucune anomalie sur les prix min. et max., les prix produits en queue de distribution sont plausibles."
   ]
  },
  {
   "cell_type": "markdown",
   "id": "5012246d",
   "metadata": {},
   "source": [
    ">>>### <span style=\"color:dark green\">2.2.2 Analyse et correction éventuelle du dataframe df_customers"
   ]
  },
  {
   "cell_type": "code",
   "execution_count": 16,
   "id": "6ddb3601",
   "metadata": {},
   "outputs": [
    {
     "data": {
      "text/html": [
       "<div>\n",
       "<style scoped>\n",
       "    .dataframe tbody tr th:only-of-type {\n",
       "        vertical-align: middle;\n",
       "    }\n",
       "\n",
       "    .dataframe tbody tr th {\n",
       "        vertical-align: top;\n",
       "    }\n",
       "\n",
       "    .dataframe thead th {\n",
       "        text-align: right;\n",
       "    }\n",
       "</style>\n",
       "<table border=\"1\" class=\"dataframe\">\n",
       "  <thead>\n",
       "    <tr style=\"text-align: right;\">\n",
       "      <th></th>\n",
       "      <th>client_id</th>\n",
       "      <th>sex</th>\n",
       "      <th>birth</th>\n",
       "    </tr>\n",
       "  </thead>\n",
       "  <tbody>\n",
       "    <tr>\n",
       "      <th>8494</th>\n",
       "      <td>ct_1</td>\n",
       "      <td>m</td>\n",
       "      <td>2001</td>\n",
       "    </tr>\n",
       "    <tr>\n",
       "      <th>2735</th>\n",
       "      <td>ct_0</td>\n",
       "      <td>f</td>\n",
       "      <td>2001</td>\n",
       "    </tr>\n",
       "    <tr>\n",
       "      <th>7358</th>\n",
       "      <td>c_999</td>\n",
       "      <td>m</td>\n",
       "      <td>1964</td>\n",
       "    </tr>\n",
       "    <tr>\n",
       "      <th>2145</th>\n",
       "      <td>c_998</td>\n",
       "      <td>m</td>\n",
       "      <td>2001</td>\n",
       "    </tr>\n",
       "    <tr>\n",
       "      <th>94</th>\n",
       "      <td>c_997</td>\n",
       "      <td>f</td>\n",
       "      <td>1994</td>\n",
       "    </tr>\n",
       "  </tbody>\n",
       "</table>\n",
       "</div>"
      ],
      "text/plain": [
       "     client_id sex  birth\n",
       "8494      ct_1   m   2001\n",
       "2735      ct_0   f   2001\n",
       "7358     c_999   m   1964\n",
       "2145     c_998   m   2001\n",
       "94       c_997   f   1994"
      ]
     },
     "execution_count": 16,
     "metadata": {},
     "output_type": "execute_result"
    }
   ],
   "source": [
    "# # Tri rapide sur les 5 premières lignes du dataframe df_customers (méthode .sort_values())\n",
    "# # ==============================================================================\n",
    "df_customers.sort_values('client_id', ascending = False).head()"
   ]
  },
  {
   "cell_type": "code",
   "execution_count": 17,
   "id": "3881cc71",
   "metadata": {},
   "outputs": [
    {
     "data": {
      "text/html": [
       "<div>\n",
       "<style scoped>\n",
       "    .dataframe tbody tr th:only-of-type {\n",
       "        vertical-align: middle;\n",
       "    }\n",
       "\n",
       "    .dataframe tbody tr th {\n",
       "        vertical-align: top;\n",
       "    }\n",
       "\n",
       "    .dataframe thead th {\n",
       "        text-align: right;\n",
       "    }\n",
       "</style>\n",
       "<table border=\"1\" class=\"dataframe\">\n",
       "  <thead>\n",
       "    <tr style=\"text-align: right;\">\n",
       "      <th></th>\n",
       "      <th>client_id</th>\n",
       "      <th>sex</th>\n",
       "      <th>birth</th>\n",
       "    </tr>\n",
       "  </thead>\n",
       "  <tbody>\n",
       "    <tr>\n",
       "      <th>3426</th>\n",
       "      <td>c_1001</td>\n",
       "      <td>m</td>\n",
       "      <td>1982</td>\n",
       "    </tr>\n",
       "    <tr>\n",
       "      <th>8472</th>\n",
       "      <td>c_1000</td>\n",
       "      <td>f</td>\n",
       "      <td>1966</td>\n",
       "    </tr>\n",
       "    <tr>\n",
       "      <th>2137</th>\n",
       "      <td>c_100</td>\n",
       "      <td>m</td>\n",
       "      <td>1992</td>\n",
       "    </tr>\n",
       "    <tr>\n",
       "      <th>6894</th>\n",
       "      <td>c_10</td>\n",
       "      <td>m</td>\n",
       "      <td>1956</td>\n",
       "    </tr>\n",
       "    <tr>\n",
       "      <th>4299</th>\n",
       "      <td>c_1</td>\n",
       "      <td>m</td>\n",
       "      <td>1955</td>\n",
       "    </tr>\n",
       "  </tbody>\n",
       "</table>\n",
       "</div>"
      ],
      "text/plain": [
       "     client_id sex  birth\n",
       "3426    c_1001   m   1982\n",
       "8472    c_1000   f   1966\n",
       "2137     c_100   m   1992\n",
       "6894      c_10   m   1956\n",
       "4299       c_1   m   1955"
      ]
     },
     "execution_count": 17,
     "metadata": {},
     "output_type": "execute_result"
    }
   ],
   "source": [
    "# # Tri rapide sur les 5 dernières lignes du dataframe df_customers\n",
    "# # ==============================================================================\n",
    "df_customers.sort_values('client_id', ascending = False).tail()"
   ]
  },
  {
   "cell_type": "markdown",
   "id": "c7162aa7",
   "metadata": {},
   "source": [
    "client_id, ct_1 et ct_2 semblent ne pas avoir la même forme d'écriture, le \"ct\" ressemble à un identifiant de test  "
   ]
  },
  {
   "cell_type": "code",
   "execution_count": 18,
   "id": "ca28e199",
   "metadata": {},
   "outputs": [],
   "source": [
    "# # Suppression des deux lignes client_id ct_1 et ct_2\n",
    "# # ==============================================================================\n",
    "df_customers = df_customers[(df_customers.client_id != 'ct_0') & (df_customers.client_id != 'ct_1')]"
   ]
  },
  {
   "cell_type": "code",
   "execution_count": 19,
   "id": "90b8c7c5",
   "metadata": {},
   "outputs": [
    {
     "name": "stdout",
     "output_type": "stream",
     "text": [
      "     client_id sex  birth\n",
      "7078    c_8245   f   2004\n",
      "6330    c_2854   m   2004\n",
      "445     c_2627   m   2004\n",
      "1787    c_7916   f   2004\n",
      "2947     c_308   f   2004\n",
      "     client_id sex  birth\n",
      "4569     c_577   m   1929\n",
      "2491    c_8362   f   1929\n",
      "418     c_5302   m   1929\n",
      "1086    c_3218   f   1930\n",
      "5138    c_7232   f   1930\n"
     ]
    }
   ],
   "source": [
    "# # Vérification rapide de la cohérence des âges clients\n",
    "# # ==============================================================================\n",
    "print(df_customers.sort_values(by='birth', ascending=False).head())\n",
    "print(df_customers.sort_values(by='birth', ascending=True).head())"
   ]
  },
  {
   "cell_type": "markdown",
   "id": "e7107ed1",
   "metadata": {},
   "source": [
    "Les plus jeunes clients ont 18 ans, les plus âgés 93 ans. Aucune anomalie."
   ]
  },
  {
   "cell_type": "markdown",
   "id": "13f8d0c6",
   "metadata": {},
   "source": [
    ">>>### <span style=\"color:dark green\">2.2.3 Analyse et correction éventuelle du dataframe df_transactions"
   ]
  },
  {
   "cell_type": "code",
   "execution_count": 20,
   "id": "99c8072e",
   "metadata": {},
   "outputs": [
    {
     "data": {
      "text/plain": [
       "<bound method NDFrame.head of        id_prod                             date session_id client_id\n",
       "638483     T_0  test_2021-03-01 02:30:02.237444        s_0      ct_1\n",
       "589180     T_0  test_2021-03-01 02:30:02.237443        s_0      ct_1\n",
       "338563     T_0  test_2021-03-01 02:30:02.237433        s_0      ct_1\n",
       "245235     T_0  test_2021-03-01 02:30:02.237415        s_0      ct_1\n",
       "525297     T_0  test_2021-03-01 02:30:02.237418        s_0      ct_1\n",
       "...        ...                              ...        ...       ...\n",
       "673656  0_2277       2021-09-06 18:34:16.975976    s_85977       c_1\n",
       "620939   1_425       2021-12-25 03:53:43.623598   s_139610       c_1\n",
       "72185   0_2277       2022-10-06 18:34:16.975976   s_278688       c_1\n",
       "488625   0_513       2022-12-21 22:41:38.769525   s_315508       c_1\n",
       "318987  0_1880       2021-11-04 18:37:01.482109   s_114737       c_1\n",
       "\n",
       "[679532 rows x 4 columns]>"
      ]
     },
     "execution_count": 20,
     "metadata": {},
     "output_type": "execute_result"
    }
   ],
   "source": [
    "# # Tri rapide sur les 5 premières lignes du dataframe df_transactions (méthode .sort_values())\n",
    "# # ==============================================================================\n",
    "df_transactions.sort_values('client_id', ascending = False).head"
   ]
  },
  {
   "cell_type": "code",
   "execution_count": 21,
   "id": "08a95a05",
   "metadata": {},
   "outputs": [
    {
     "data": {
      "text/html": [
       "<div>\n",
       "<style scoped>\n",
       "    .dataframe tbody tr th:only-of-type {\n",
       "        vertical-align: middle;\n",
       "    }\n",
       "\n",
       "    .dataframe tbody tr th {\n",
       "        vertical-align: top;\n",
       "    }\n",
       "\n",
       "    .dataframe thead th {\n",
       "        text-align: right;\n",
       "    }\n",
       "</style>\n",
       "<table border=\"1\" class=\"dataframe\">\n",
       "  <thead>\n",
       "    <tr style=\"text-align: right;\">\n",
       "      <th></th>\n",
       "      <th>id_prod</th>\n",
       "      <th>date</th>\n",
       "      <th>session_id</th>\n",
       "      <th>client_id</th>\n",
       "    </tr>\n",
       "  </thead>\n",
       "  <tbody>\n",
       "    <tr>\n",
       "      <th>673656</th>\n",
       "      <td>0_2277</td>\n",
       "      <td>2021-09-06 18:34:16.975976</td>\n",
       "      <td>s_85977</td>\n",
       "      <td>c_1</td>\n",
       "    </tr>\n",
       "    <tr>\n",
       "      <th>620939</th>\n",
       "      <td>1_425</td>\n",
       "      <td>2021-12-25 03:53:43.623598</td>\n",
       "      <td>s_139610</td>\n",
       "      <td>c_1</td>\n",
       "    </tr>\n",
       "    <tr>\n",
       "      <th>72185</th>\n",
       "      <td>0_2277</td>\n",
       "      <td>2022-10-06 18:34:16.975976</td>\n",
       "      <td>s_278688</td>\n",
       "      <td>c_1</td>\n",
       "    </tr>\n",
       "    <tr>\n",
       "      <th>488625</th>\n",
       "      <td>0_513</td>\n",
       "      <td>2022-12-21 22:41:38.769525</td>\n",
       "      <td>s_315508</td>\n",
       "      <td>c_1</td>\n",
       "    </tr>\n",
       "    <tr>\n",
       "      <th>318987</th>\n",
       "      <td>0_1880</td>\n",
       "      <td>2021-11-04 18:37:01.482109</td>\n",
       "      <td>s_114737</td>\n",
       "      <td>c_1</td>\n",
       "    </tr>\n",
       "  </tbody>\n",
       "</table>\n",
       "</div>"
      ],
      "text/plain": [
       "       id_prod                        date session_id client_id\n",
       "673656  0_2277  2021-09-06 18:34:16.975976    s_85977       c_1\n",
       "620939   1_425  2021-12-25 03:53:43.623598   s_139610       c_1\n",
       "72185   0_2277  2022-10-06 18:34:16.975976   s_278688       c_1\n",
       "488625   0_513  2022-12-21 22:41:38.769525   s_315508       c_1\n",
       "318987  0_1880  2021-11-04 18:37:01.482109   s_114737       c_1"
      ]
     },
     "execution_count": 21,
     "metadata": {},
     "output_type": "execute_result"
    }
   ],
   "source": [
    "# # Tri rapide sur les 5 dernières lignes du dataframe df_transactions\n",
    "# # ==============================================================================\n",
    "df_transactions.sort_values('client_id', ascending = False).tail()"
   ]
  },
  {
   "cell_type": "markdown",
   "id": "f9e59fc4",
   "metadata": {},
   "source": [
    "Identification de nouvelles valeurs \"test\".\n",
    "\n",
    "Valeurs directement liées aux client_id ct_1 et ct_2 identifiées précédemment."
   ]
  },
  {
   "cell_type": "code",
   "execution_count": 22,
   "id": "cc7c7a6f",
   "metadata": {},
   "outputs": [],
   "source": [
    "#Suppression des valeurs test\n",
    "# # ==============================================================================\n",
    "df_transactions = df_transactions[df_transactions.id_prod != 'T_0']"
   ]
  },
  {
   "cell_type": "code",
   "execution_count": 23,
   "id": "516271cd",
   "metadata": {},
   "outputs": [],
   "source": [
    "#Conversion des valeurs de la colonne 'date' dans le bon format date (méthode .to_datetime())\n",
    "# # ==============================================================================\n",
    "df_transactions['date'] = pd.to_datetime(df_transactions.date, format='%Y-%m-%d %H:%M:%S', errors = 'coerce')"
   ]
  },
  {
   "cell_type": "code",
   "execution_count": 24,
   "id": "b7d20546",
   "metadata": {},
   "outputs": [
    {
     "data": {
      "text/plain": [
       "0"
      ]
     },
     "execution_count": 24,
     "metadata": {},
     "output_type": "execute_result"
    }
   ],
   "source": [
    "#L'argument \"errors = 'coerce'\" de la méthode renvoie (NaT) si la conversion n'est pas possible\n",
    "\n",
    "#Vérification des éventuelles valeurs manquantes\n",
    "# # ==============================================================================\n",
    "df_transactions.date.isnull().sum()"
   ]
  },
  {
   "cell_type": "markdown",
   "id": "8373d8d3",
   "metadata": {},
   "source": [
    ">>## <span style=\"color:dark green\">2.3 Traitement des éventuels doublons"
   ]
  },
  {
   "cell_type": "code",
   "execution_count": 25,
   "id": "54fba560",
   "metadata": {},
   "outputs": [
    {
     "name": "stdout",
     "output_type": "stream",
     "text": [
      "0\n",
      "0\n",
      "0\n"
     ]
    }
   ],
   "source": [
    "#Méthode .duplicated() pour identifier la présence de doublons\n",
    "# # ==============================================================================\n",
    "print(df_products.duplicated().sum())\n",
    "print(df_customers.duplicated().sum())\n",
    "print(df_transactions.duplicated().sum())"
   ]
  },
  {
   "cell_type": "markdown",
   "id": "67c5553c",
   "metadata": {},
   "source": [
    "Aucun doublon détecté dans nos 3 dataframes."
   ]
  },
  {
   "cell_type": "markdown",
   "id": "6f257eeb",
   "metadata": {},
   "source": [
    "En conclusion, à ce stade de l'analyse, seules des valeurs dites \"test\" ont été supprimées pour ne pas fausser l'étude. Il n'y a pas vraiment de valeurs atypiques, les prix en queue de distribution restent cohérents, ainsi que les clients les plus âgés."
   ]
  },
  {
   "cell_type": "markdown",
   "id": "701c5016",
   "metadata": {},
   "source": [
    "> # <span style=\"color:dark green\">3 Analyses des différents indicateurs de vente (demandé par Antoine)\n",
    "    \n",
    "    "
   ]
  },
  {
   "cell_type": "markdown",
   "id": "bd4cadc2",
   "metadata": {},
   "source": [
    ">> ## <span style=\"color:dark green\">3.1 Préparation des données transactionnelles produits"
   ]
  },
  {
   "cell_type": "code",
   "execution_count": 26,
   "id": "0fe5e312",
   "metadata": {},
   "outputs": [
    {
     "data": {
      "text/html": [
       "<div>\n",
       "<style scoped>\n",
       "    .dataframe tbody tr th:only-of-type {\n",
       "        vertical-align: middle;\n",
       "    }\n",
       "\n",
       "    .dataframe tbody tr th {\n",
       "        vertical-align: top;\n",
       "    }\n",
       "\n",
       "    .dataframe thead th {\n",
       "        text-align: right;\n",
       "    }\n",
       "</style>\n",
       "<table border=\"1\" class=\"dataframe\">\n",
       "  <thead>\n",
       "    <tr style=\"text-align: right;\">\n",
       "      <th></th>\n",
       "      <th>id_prod</th>\n",
       "      <th>date</th>\n",
       "      <th>session_id</th>\n",
       "      <th>client_id</th>\n",
       "      <th>price</th>\n",
       "      <th>categ</th>\n",
       "    </tr>\n",
       "  </thead>\n",
       "  <tbody>\n",
       "    <tr>\n",
       "      <th>0</th>\n",
       "      <td>0_1518</td>\n",
       "      <td>2022-05-20 13:21:29.043970</td>\n",
       "      <td>s_211425</td>\n",
       "      <td>c_103</td>\n",
       "      <td>4.18</td>\n",
       "      <td>0.0</td>\n",
       "    </tr>\n",
       "    <tr>\n",
       "      <th>1</th>\n",
       "      <td>1_251</td>\n",
       "      <td>2022-02-02 07:55:19.149409</td>\n",
       "      <td>s_158752</td>\n",
       "      <td>c_8534</td>\n",
       "      <td>15.99</td>\n",
       "      <td>1.0</td>\n",
       "    </tr>\n",
       "    <tr>\n",
       "      <th>2</th>\n",
       "      <td>0_1277</td>\n",
       "      <td>2022-06-18 15:44:33.155329</td>\n",
       "      <td>s_225667</td>\n",
       "      <td>c_6714</td>\n",
       "      <td>7.99</td>\n",
       "      <td>0.0</td>\n",
       "    </tr>\n",
       "    <tr>\n",
       "      <th>3</th>\n",
       "      <td>2_209</td>\n",
       "      <td>2021-06-24 04:19:29.835891</td>\n",
       "      <td>s_52962</td>\n",
       "      <td>c_6941</td>\n",
       "      <td>69.99</td>\n",
       "      <td>2.0</td>\n",
       "    </tr>\n",
       "    <tr>\n",
       "      <th>4</th>\n",
       "      <td>0_1509</td>\n",
       "      <td>2023-01-11 08:22:08.194479</td>\n",
       "      <td>s_325227</td>\n",
       "      <td>c_4232</td>\n",
       "      <td>4.99</td>\n",
       "      <td>0.0</td>\n",
       "    </tr>\n",
       "  </tbody>\n",
       "</table>\n",
       "</div>"
      ],
      "text/plain": [
       "  id_prod                       date session_id client_id  price  categ\n",
       "0  0_1518 2022-05-20 13:21:29.043970   s_211425     c_103   4.18    0.0\n",
       "1   1_251 2022-02-02 07:55:19.149409   s_158752    c_8534  15.99    1.0\n",
       "2  0_1277 2022-06-18 15:44:33.155329   s_225667    c_6714   7.99    0.0\n",
       "3   2_209 2021-06-24 04:19:29.835891    s_52962    c_6941  69.99    2.0\n",
       "4  0_1509 2023-01-11 08:22:08.194479   s_325227    c_4232   4.99    0.0"
      ]
     },
     "execution_count": 26,
     "metadata": {},
     "output_type": "execute_result"
    }
   ],
   "source": [
    "#Jointure pour agréger les valeurs 'transactions' avec celles 'products' (méthode .merge())\n",
    "# # ==============================================================================\n",
    "df_transactions_products = pd.merge(df_transactions, df_products, on='id_prod', how='left')\n",
    "df_transactions_products.head()"
   ]
  },
  {
   "cell_type": "code",
   "execution_count": 27,
   "id": "8c33681d",
   "metadata": {},
   "outputs": [],
   "source": [
    "#Aucun id produit manquant, il est intéressant de détecter le ou les produits concernés par les valeurs manquantes\n",
    "\n",
    "#Création d'un dataframe ciblant uniquement ces NaN\n",
    "# # ==============================================================================\n",
    "df_missing_values = df_transactions_products[df_transactions_products.categ.isnull() == True]"
   ]
  },
  {
   "cell_type": "code",
   "execution_count": 28,
   "id": "051a3bf8",
   "metadata": {
    "scrolled": true
   },
   "outputs": [
    {
     "data": {
      "text/plain": [
       "array(['0_2245'], dtype=object)"
      ]
     },
     "execution_count": 28,
     "metadata": {},
     "output_type": "execute_result"
    }
   ],
   "source": [
    "#Recherche d'ou des produits concernés\n",
    "# # ==============================================================================\n",
    "df_missing_values.id_prod.unique()"
   ]
  },
  {
   "cell_type": "markdown",
   "id": "6b5f835e",
   "metadata": {},
   "source": [
    "Seul le produit id 0_2245 est concerné par les valeurs manquantes\n"
   ]
  },
  {
   "cell_type": "code",
   "execution_count": 29,
   "id": "cca4cc1e",
   "metadata": {},
   "outputs": [],
   "source": [
    "#Exactement 103 lignes non exploitables dans l'état pour le produit id 0_2245\n",
    "\n",
    "#Il est préférable de les conserver en remplacant les prix NaN par le prix moyen\n",
    "# # ==============================================================================\n",
    "df_transactions_products['price'] = df_transactions_products.price.fillna(df_transactions_products.price.mean())"
   ]
  },
  {
   "cell_type": "code",
   "execution_count": 30,
   "id": "79b6046a",
   "metadata": {},
   "outputs": [],
   "source": [
    "#Le produit id 0_2245 doit-être classifié en catégorie 0, il commence par \"0_\"\n",
    "\n",
    "#Méthode .fillna() pour remplacer les NaN de la variable catégorie par 0\n",
    "# # ==============================================================================\n",
    "df_transactions_products['categ'] = df_transactions_products.categ.fillna(0)"
   ]
  },
  {
   "cell_type": "code",
   "execution_count": 31,
   "id": "ddbd6eaf",
   "metadata": {},
   "outputs": [
    {
     "data": {
      "text/html": [
       "<div>\n",
       "<style scoped>\n",
       "    .dataframe tbody tr th:only-of-type {\n",
       "        vertical-align: middle;\n",
       "    }\n",
       "\n",
       "    .dataframe tbody tr th {\n",
       "        vertical-align: top;\n",
       "    }\n",
       "\n",
       "    .dataframe thead th {\n",
       "        text-align: right;\n",
       "    }\n",
       "</style>\n",
       "<table border=\"1\" class=\"dataframe\">\n",
       "  <thead>\n",
       "    <tr style=\"text-align: right;\">\n",
       "      <th></th>\n",
       "      <th>id_prod</th>\n",
       "      <th>date</th>\n",
       "      <th>session_id</th>\n",
       "      <th>client_id</th>\n",
       "      <th>price</th>\n",
       "      <th>categ</th>\n",
       "    </tr>\n",
       "  </thead>\n",
       "  <tbody>\n",
       "  </tbody>\n",
       "</table>\n",
       "</div>"
      ],
      "text/plain": [
       "Empty DataFrame\n",
       "Columns: [id_prod, date, session_id, client_id, price, categ]\n",
       "Index: []"
      ]
     },
     "execution_count": 31,
     "metadata": {},
     "output_type": "execute_result"
    }
   ],
   "source": [
    "#22 individus restants sans date, sans session_id et sans client_id\n",
    "#Il n'y pas de solution immédiate pour pouvoir obtenir des indications sur la date, la session…\n",
    "#Il est préférable de les supprimer pour les exclure de l'analyse\n",
    "# # ==============================================================================\n",
    "df_transactions_products[df_transactions_products.date.isnull() == True]"
   ]
  },
  {
   "cell_type": "code",
   "execution_count": 32,
   "id": "56feb39d",
   "metadata": {},
   "outputs": [],
   "source": [
    "#Suppression des 22 dernières lignes avec valeurs manquantes (celles affichées ci-dessus)\n",
    "# # ==============================================================================\n",
    "df_transactions_products = df_transactions_products.dropna()"
   ]
  },
  {
   "cell_type": "code",
   "execution_count": 33,
   "id": "16bb29dc",
   "metadata": {},
   "outputs": [
    {
     "data": {
      "text/plain": [
       "id_prod       0\n",
       "date          0\n",
       "session_id    0\n",
       "client_id     0\n",
       "price         0\n",
       "categ         0\n",
       "dtype: int64"
      ]
     },
     "execution_count": 33,
     "metadata": {},
     "output_type": "execute_result"
    }
   ],
   "source": [
    "#Nouvelle vérification des valeurs manquantes, normalement les catégories sont désormais sans NaN\n",
    "# # ==============================================================================\n",
    "df_transactions_products.isnull().sum()"
   ]
  },
  {
   "cell_type": "markdown",
   "id": "8cdda04d",
   "metadata": {},
   "source": [
    ">> ## <span style=\"color:dark green\">3.2 Analyse de l'évolution du chiffre d'affaires"
   ]
  },
  {
   "cell_type": "markdown",
   "id": "b3a72d62",
   "metadata": {},
   "source": [
    ">>> ### <span style=\"color:dark green\">3.2.1 C.A mensuelle"
   ]
  },
  {
   "cell_type": "code",
   "execution_count": 34,
   "id": "3b6a4dad",
   "metadata": {},
   "outputs": [
    {
     "data": {
      "text/html": [
       "<div>\n",
       "<style scoped>\n",
       "    .dataframe tbody tr th:only-of-type {\n",
       "        vertical-align: middle;\n",
       "    }\n",
       "\n",
       "    .dataframe tbody tr th {\n",
       "        vertical-align: top;\n",
       "    }\n",
       "\n",
       "    .dataframe thead th {\n",
       "        text-align: right;\n",
       "    }\n",
       "</style>\n",
       "<table border=\"1\" class=\"dataframe\">\n",
       "  <thead>\n",
       "    <tr style=\"text-align: right;\">\n",
       "      <th></th>\n",
       "      <th>date</th>\n",
       "      <th>ventes_keuros</th>\n",
       "    </tr>\n",
       "  </thead>\n",
       "  <tbody>\n",
       "    <tr>\n",
       "      <th>0</th>\n",
       "      <td>2021-03-31</td>\n",
       "      <td>482.597703</td>\n",
       "    </tr>\n",
       "    <tr>\n",
       "      <th>1</th>\n",
       "      <td>2021-04-30</td>\n",
       "      <td>476.353667</td>\n",
       "    </tr>\n",
       "    <tr>\n",
       "      <th>2</th>\n",
       "      <td>2021-05-31</td>\n",
       "      <td>493.083108</td>\n",
       "    </tr>\n",
       "    <tr>\n",
       "      <th>3</th>\n",
       "      <td>2021-06-30</td>\n",
       "      <td>484.210743</td>\n",
       "    </tr>\n",
       "    <tr>\n",
       "      <th>4</th>\n",
       "      <td>2021-07-31</td>\n",
       "      <td>482.905219</td>\n",
       "    </tr>\n",
       "    <tr>\n",
       "      <th>5</th>\n",
       "      <td>2021-08-31</td>\n",
       "      <td>482.441883</td>\n",
       "    </tr>\n",
       "    <tr>\n",
       "      <th>6</th>\n",
       "      <td>2021-09-30</td>\n",
       "      <td>507.450137</td>\n",
       "    </tr>\n",
       "    <tr>\n",
       "      <th>7</th>\n",
       "      <td>2021-10-31</td>\n",
       "      <td>320.920923</td>\n",
       "    </tr>\n",
       "    <tr>\n",
       "      <th>8</th>\n",
       "      <td>2021-11-30</td>\n",
       "      <td>516.342278</td>\n",
       "    </tr>\n",
       "    <tr>\n",
       "      <th>9</th>\n",
       "      <td>2021-12-31</td>\n",
       "      <td>526.039463</td>\n",
       "    </tr>\n",
       "    <tr>\n",
       "      <th>10</th>\n",
       "      <td>2022-01-31</td>\n",
       "      <td>525.426264</td>\n",
       "    </tr>\n",
       "    <tr>\n",
       "      <th>11</th>\n",
       "      <td>2022-02-28</td>\n",
       "      <td>535.763503</td>\n",
       "    </tr>\n",
       "    <tr>\n",
       "      <th>12</th>\n",
       "      <td>2022-03-31</td>\n",
       "      <td>515.648533</td>\n",
       "    </tr>\n",
       "    <tr>\n",
       "      <th>13</th>\n",
       "      <td>2022-04-30</td>\n",
       "      <td>493.243307</td>\n",
       "    </tr>\n",
       "    <tr>\n",
       "      <th>14</th>\n",
       "      <td>2022-05-31</td>\n",
       "      <td>517.411876</td>\n",
       "    </tr>\n",
       "    <tr>\n",
       "      <th>15</th>\n",
       "      <td>2022-06-30</td>\n",
       "      <td>496.138303</td>\n",
       "    </tr>\n",
       "    <tr>\n",
       "      <th>16</th>\n",
       "      <td>2022-07-31</td>\n",
       "      <td>510.992577</td>\n",
       "    </tr>\n",
       "    <tr>\n",
       "      <th>17</th>\n",
       "      <td>2022-08-31</td>\n",
       "      <td>506.606908</td>\n",
       "    </tr>\n",
       "    <tr>\n",
       "      <th>18</th>\n",
       "      <td>2022-09-30</td>\n",
       "      <td>494.271623</td>\n",
       "    </tr>\n",
       "    <tr>\n",
       "      <th>19</th>\n",
       "      <td>2022-10-31</td>\n",
       "      <td>508.092318</td>\n",
       "    </tr>\n",
       "    <tr>\n",
       "      <th>20</th>\n",
       "      <td>2022-11-30</td>\n",
       "      <td>496.856943</td>\n",
       "    </tr>\n",
       "    <tr>\n",
       "      <th>21</th>\n",
       "      <td>2022-12-31</td>\n",
       "      <td>510.324229</td>\n",
       "    </tr>\n",
       "    <tr>\n",
       "      <th>22</th>\n",
       "      <td>2023-01-31</td>\n",
       "      <td>517.662733</td>\n",
       "    </tr>\n",
       "    <tr>\n",
       "      <th>23</th>\n",
       "      <td>2023-02-28</td>\n",
       "      <td>456.801943</td>\n",
       "    </tr>\n",
       "  </tbody>\n",
       "</table>\n",
       "</div>"
      ],
      "text/plain": [
       "         date  ventes_keuros\n",
       "0  2021-03-31     482.597703\n",
       "1  2021-04-30     476.353667\n",
       "2  2021-05-31     493.083108\n",
       "3  2021-06-30     484.210743\n",
       "4  2021-07-31     482.905219\n",
       "5  2021-08-31     482.441883\n",
       "6  2021-09-30     507.450137\n",
       "7  2021-10-31     320.920923\n",
       "8  2021-11-30     516.342278\n",
       "9  2021-12-31     526.039463\n",
       "10 2022-01-31     525.426264\n",
       "11 2022-02-28     535.763503\n",
       "12 2022-03-31     515.648533\n",
       "13 2022-04-30     493.243307\n",
       "14 2022-05-31     517.411876\n",
       "15 2022-06-30     496.138303\n",
       "16 2022-07-31     510.992577\n",
       "17 2022-08-31     506.606908\n",
       "18 2022-09-30     494.271623\n",
       "19 2022-10-31     508.092318\n",
       "20 2022-11-30     496.856943\n",
       "21 2022-12-31     510.324229\n",
       "22 2023-01-31     517.662733\n",
       "23 2023-02-28     456.801943"
      ]
     },
     "execution_count": 34,
     "metadata": {},
     "output_type": "execute_result"
    }
   ],
   "source": [
    "#Agrégation des données transactionnelles par fréquence mensuelle (méthode .groupby())\n",
    "# # ==============================================================================\n",
    "df_transactions_months = df_transactions_products.groupby(pd.Grouper(key='date', freq='M')).sum().reset_index()\n",
    "\n",
    "df_transactions_months['ventes_keuros'] = df_transactions_months.price / 1000\n",
    "df_transactions_months = df_transactions_months[['date', 'ventes_keuros']]\n",
    "df_transactions_months"
   ]
  },
  {
   "cell_type": "markdown",
   "id": "dedf8c61",
   "metadata": {},
   "source": [
    ">>> ### <span style=\"color:dark green\">3.2.2 Évolution des ventes"
   ]
  },
  {
   "cell_type": "code",
   "execution_count": 35,
   "id": "f38f9106",
   "metadata": {},
   "outputs": [
    {
     "data": {
      "text/plain": [
       "RangeIndex(start=0, stop=24, step=1)"
      ]
     },
     "execution_count": 35,
     "metadata": {},
     "output_type": "execute_result"
    }
   ],
   "source": [
    "# Vérification de l'index\n",
    "# # ==============================================================================\n",
    "df_transactions_months.index"
   ]
  },
  {
   "cell_type": "code",
   "execution_count": 36,
   "id": "d869dff4",
   "metadata": {},
   "outputs": [
    {
     "data": {
      "text/html": [
       "<div>\n",
       "<style scoped>\n",
       "    .dataframe tbody tr th:only-of-type {\n",
       "        vertical-align: middle;\n",
       "    }\n",
       "\n",
       "    .dataframe tbody tr th {\n",
       "        vertical-align: top;\n",
       "    }\n",
       "\n",
       "    .dataframe thead th {\n",
       "        text-align: right;\n",
       "    }\n",
       "</style>\n",
       "<table border=\"1\" class=\"dataframe\">\n",
       "  <thead>\n",
       "    <tr style=\"text-align: right;\">\n",
       "      <th></th>\n",
       "      <th>ventes_keuros</th>\n",
       "    </tr>\n",
       "    <tr>\n",
       "      <th>date</th>\n",
       "      <th></th>\n",
       "    </tr>\n",
       "  </thead>\n",
       "  <tbody>\n",
       "    <tr>\n",
       "      <th>2021-03-31</th>\n",
       "      <td>482.597703</td>\n",
       "    </tr>\n",
       "    <tr>\n",
       "      <th>2021-04-30</th>\n",
       "      <td>476.353667</td>\n",
       "    </tr>\n",
       "    <tr>\n",
       "      <th>2021-05-31</th>\n",
       "      <td>493.083108</td>\n",
       "    </tr>\n",
       "    <tr>\n",
       "      <th>2021-06-30</th>\n",
       "      <td>484.210743</td>\n",
       "    </tr>\n",
       "    <tr>\n",
       "      <th>2021-07-31</th>\n",
       "      <td>482.905219</td>\n",
       "    </tr>\n",
       "  </tbody>\n",
       "</table>\n",
       "</div>"
      ],
      "text/plain": [
       "            ventes_keuros\n",
       "date                     \n",
       "2021-03-31     482.597703\n",
       "2021-04-30     476.353667\n",
       "2021-05-31     493.083108\n",
       "2021-06-30     484.210743\n",
       "2021-07-31     482.905219"
      ]
     },
     "execution_count": 36,
     "metadata": {},
     "output_type": "execute_result"
    }
   ],
   "source": [
    "# Définir un nouveau type d'index (Date)\n",
    "# # ==============================================================================\n",
    "df_transactions_months=df_transactions_months.set_index('date')\n",
    "df_transactions_months.head()"
   ]
  },
  {
   "cell_type": "code",
   "execution_count": 37,
   "id": "a0858a10",
   "metadata": {},
   "outputs": [
    {
     "data": {
      "text/plain": [
       "DatetimeIndex(['2021-03-31', '2021-04-30', '2021-05-31', '2021-06-30',\n",
       "               '2021-07-31', '2021-08-31', '2021-09-30', '2021-10-31',\n",
       "               '2021-11-30', '2021-12-31', '2022-01-31', '2022-02-28',\n",
       "               '2022-03-31', '2022-04-30', '2022-05-31', '2022-06-30',\n",
       "               '2022-07-31', '2022-08-31', '2022-09-30', '2022-10-31',\n",
       "               '2022-11-30', '2022-12-31', '2023-01-31', '2023-02-28'],\n",
       "              dtype='datetime64[ns]', name='date', freq=None)"
      ]
     },
     "execution_count": 37,
     "metadata": {},
     "output_type": "execute_result"
    }
   ],
   "source": [
    "df_transactions_months.index"
   ]
  },
  {
   "cell_type": "code",
   "execution_count": 53,
   "id": "ff135628",
   "metadata": {},
   "outputs": [
    {
     "data": {
      "image/png": "[encoded data removed]",
      "text/plain": [
       "<Figure size 432x288 with 1 Axes>"
      ]
     },
     "metadata": {
      "needs_background": "light"
     },
     "output_type": "display_data"
    }
   ],
   "source": [
    "#Visualisation de l'évolution des ventes 'Moyenne mobile'\n",
    "# # ==============================================================================\n",
    "df_transactions_months['ventes_keuros']['2021':'2023'].plot()\n",
    "df_transactions_months['ventes_keuros']['2021':'2023'].rolling(window=2).mean().plot(label='Moyenne mobile', lw=3)\n",
    "\n",
    "plt.legend()\n",
    "plt.title('Evolution des ventes')\n",
    "plt.ylabel('Ventes K€')\n",
    "\n",
    "plt.show()"
   ]
  },
  {
   "cell_type": "markdown",
   "id": "c0ea7eac",
   "metadata": {},
   "source": [
    "Une baisse d'activité significative est enregistrée sur le mois d'octobre."
   ]
  },
  {
   "cell_type": "code",
   "execution_count": 54,
   "id": "8731f220",
   "metadata": {},
   "outputs": [
    {
     "data": {
      "text/plain": [
       "22917"
      ]
     },
     "execution_count": 54,
     "metadata": {},
     "output_type": "execute_result"
    }
   ],
   "source": [
    "#Restriction selon les dates du mois d'octobre\n",
    "# # ==============================================================================\n",
    "transaction_october = len(df_transactions_products[(df_transactions_products.date > '2021-09-30') & \\\n",
    "                                                   (df_transactions_products.date < '2021-11-01')])\n",
    "transaction_october"
   ]
  },
  {
   "cell_type": "code",
   "execution_count": 55,
   "id": "6c342939",
   "metadata": {
    "scrolled": true
   },
   "outputs": [
    {
     "data": {
      "text/plain": [
       "34148"
      ]
     },
     "execution_count": 55,
     "metadata": {},
     "output_type": "execute_result"
    }
   ],
   "source": [
    "#Restriction selon les dates du mois de septembre\n",
    "# # ==============================================================================\n",
    "transaction_september = len(df_transactions_products[(df_transactions_products.date > '2021-08-31') & \\\n",
    "                                                     (df_transactions_products.date < '2021-10-01')])\n",
    "transaction_september"
   ]
  },
  {
   "cell_type": "code",
   "execution_count": 56,
   "id": "b4e43630",
   "metadata": {},
   "outputs": [
    {
     "name": "stdout",
     "output_type": "stream",
     "text": [
      "Taux d'évolution (ca) de sept. à oct.: -33%\n"
     ]
    }
   ],
   "source": [
    "taux_evol_oct = (transaction_october - transaction_september) / transaction_september\n",
    "taux_evol_oct\n",
    "\n",
    "print(f\"Taux d'évolution (ca) de sept. à oct.: {taux_evol_oct*100:.0f}%\")"
   ]
  },
  {
   "cell_type": "markdown",
   "id": "a2894e5e",
   "metadata": {},
   "source": [
    "Vu le taux d'évolution entre septembre et octobre 2021, il semble manquer des valeurs sur le mois d'octobre. La visualisation le montre, et le nombre de lignes identifiées sur la période semble le confirmer également. Une vérification supplémentaire est nécessaire."
   ]
  },
  {
   "cell_type": "code",
   "execution_count": 57,
   "id": "1198df05",
   "metadata": {},
   "outputs": [
    {
     "data": {
      "text/html": [
       "<div>\n",
       "<style scoped>\n",
       "    .dataframe tbody tr th:only-of-type {\n",
       "        vertical-align: middle;\n",
       "    }\n",
       "\n",
       "    .dataframe tbody tr th {\n",
       "        vertical-align: top;\n",
       "    }\n",
       "\n",
       "    .dataframe thead th {\n",
       "        text-align: right;\n",
       "    }\n",
       "</style>\n",
       "<table border=\"1\" class=\"dataframe\">\n",
       "  <thead>\n",
       "    <tr style=\"text-align: right;\">\n",
       "      <th></th>\n",
       "      <th>id_prod</th>\n",
       "      <th>date</th>\n",
       "      <th>session_id</th>\n",
       "      <th>client_id</th>\n",
       "      <th>price</th>\n",
       "      <th>categ</th>\n",
       "    </tr>\n",
       "  </thead>\n",
       "  <tbody>\n",
       "  </tbody>\n",
       "</table>\n",
       "</div>"
      ],
      "text/plain": [
       "Empty DataFrame\n",
       "Columns: [id_prod, date, session_id, client_id, price, categ]\n",
       "Index: []"
      ]
     },
     "execution_count": 57,
     "metadata": {},
     "output_type": "execute_result"
    }
   ],
   "source": [
    "#Restriction par catégorie pour identifier les valeurs manquantes sur le mois d'octobre\n",
    "# # ==============================================================================\n",
    "df_transactions_products[(df_transactions_products.categ == 1) & (df_transactions_products.date > '2021-10-02') & \\\n",
    "                                                   (df_transactions_products.date < '2021-10-28')]"
   ]
  },
  {
   "cell_type": "markdown",
   "id": "25dc937e",
   "metadata": {},
   "source": [
    "Aucune transaction sur les produits de catégorie 1 durant le mois d'octobre.\n",
    "\n",
    "Pour la suite de l'étude le mois d'octobre ne sera pas pris en compte, l'analyse se fera sur 11 mois au lieu de 12."
   ]
  },
  {
   "cell_type": "code",
   "execution_count": 58,
   "id": "1de577a6",
   "metadata": {},
   "outputs": [],
   "source": [
    "#Création (par restriction des dates)du dataframe 'df_transactionsv1' excluant les transactions du mois d'octobre\n",
    "# # ==============================================================================\n",
    "df_transactionsv1 =  df_transactions[(df_transactions.date <= '2021-09-30') | (df_transactions.date >= '2021-11-01')]"
   ]
  },
  {
   "cell_type": "code",
   "execution_count": 59,
   "id": "b2d5ac1f",
   "metadata": {},
   "outputs": [
    {
     "data": {
      "text/html": [
       "<div>\n",
       "<style scoped>\n",
       "    .dataframe tbody tr th:only-of-type {\n",
       "        vertical-align: middle;\n",
       "    }\n",
       "\n",
       "    .dataframe tbody tr th {\n",
       "        vertical-align: top;\n",
       "    }\n",
       "\n",
       "    .dataframe thead th {\n",
       "        text-align: right;\n",
       "    }\n",
       "</style>\n",
       "<table border=\"1\" class=\"dataframe\">\n",
       "  <thead>\n",
       "    <tr style=\"text-align: right;\">\n",
       "      <th></th>\n",
       "      <th>id_prod</th>\n",
       "      <th>date</th>\n",
       "      <th>session_id</th>\n",
       "      <th>client_id</th>\n",
       "      <th>price</th>\n",
       "      <th>categ</th>\n",
       "    </tr>\n",
       "  </thead>\n",
       "  <tbody>\n",
       "    <tr>\n",
       "      <th>0</th>\n",
       "      <td>0_1518</td>\n",
       "      <td>2022-05-20 13:21:29.043970</td>\n",
       "      <td>s_211425</td>\n",
       "      <td>c_103</td>\n",
       "      <td>4.18</td>\n",
       "      <td>0</td>\n",
       "    </tr>\n",
       "    <tr>\n",
       "      <th>1</th>\n",
       "      <td>0_1518</td>\n",
       "      <td>2021-09-26 12:37:29.780414</td>\n",
       "      <td>s_95811</td>\n",
       "      <td>c_6197</td>\n",
       "      <td>4.18</td>\n",
       "      <td>0</td>\n",
       "    </tr>\n",
       "    <tr>\n",
       "      <th>2</th>\n",
       "      <td>0_1518</td>\n",
       "      <td>2021-05-06 17:14:43.117440</td>\n",
       "      <td>s_30782</td>\n",
       "      <td>c_682</td>\n",
       "      <td>4.18</td>\n",
       "      <td>0</td>\n",
       "    </tr>\n",
       "    <tr>\n",
       "      <th>3</th>\n",
       "      <td>0_1518</td>\n",
       "      <td>2022-03-16 18:57:10.420103</td>\n",
       "      <td>s_180057</td>\n",
       "      <td>c_5932</td>\n",
       "      <td>4.18</td>\n",
       "      <td>0</td>\n",
       "    </tr>\n",
       "    <tr>\n",
       "      <th>4</th>\n",
       "      <td>0_1518</td>\n",
       "      <td>2022-11-12 18:58:10.574853</td>\n",
       "      <td>s_296584</td>\n",
       "      <td>c_7217</td>\n",
       "      <td>4.18</td>\n",
       "      <td>0</td>\n",
       "    </tr>\n",
       "  </tbody>\n",
       "</table>\n",
       "</div>"
      ],
      "text/plain": [
       "  id_prod                       date session_id client_id  price  categ\n",
       "0  0_1518 2022-05-20 13:21:29.043970   s_211425     c_103   4.18      0\n",
       "1  0_1518 2021-09-26 12:37:29.780414    s_95811    c_6197   4.18      0\n",
       "2  0_1518 2021-05-06 17:14:43.117440    s_30782     c_682   4.18      0\n",
       "3  0_1518 2022-03-16 18:57:10.420103   s_180057    c_5932   4.18      0\n",
       "4  0_1518 2022-11-12 18:58:10.574853   s_296584    c_7217   4.18      0"
      ]
     },
     "execution_count": 59,
     "metadata": {},
     "output_type": "execute_result"
    }
   ],
   "source": [
    "#Nouvelle jointure pour agréger les valeurs 'transactionsv1' avec celles 'products' (méthode .merge())\n",
    "# # ==============================================================================\n",
    "df_transactionsv1_products = pd.merge(df_transactionsv1, df_products, on='id_prod')\n",
    "df_transactionsv1_products.head()"
   ]
  },
  {
   "cell_type": "markdown",
   "id": "f858fd86",
   "metadata": {},
   "source": [
    "Pour la suite de l'étude les dataframes df_transactionsv1_products et df_transactionsv1 seront utilisés."
   ]
  },
  {
   "cell_type": "markdown",
   "id": "6347d519",
   "metadata": {},
   "source": [
    ">>> ### <span style=\"color:dark green\">3.2.3 Proportion des transactions entre professionnels et particuliers"
   ]
  },
  {
   "cell_type": "markdown",
   "id": "8fcacdc1",
   "metadata": {},
   "source": [
    "Pour enrichir l'analyse, on crée quelques variables additionnelles, comme :\n",
    "\n",
    "* le mois de la transaction\n",
    "* le nombre de produits achetés par client chaque mois (la fréquence d'achats)\n",
    "* le nombre de ventes total par client sur l'année entière\n",
    "* le panier moyen,\n",
    "* la taille du panier moyen pour chaque client\n",
    "* le chiffre d'affaires total par client sur l'année"
   ]
  },
  {
   "cell_type": "code",
   "execution_count": 60,
   "id": "b1bd2783",
   "metadata": {},
   "outputs": [
    {
     "data": {
      "text/html": [
       "<div>\n",
       "<style scoped>\n",
       "    .dataframe tbody tr th:only-of-type {\n",
       "        vertical-align: middle;\n",
       "    }\n",
       "\n",
       "    .dataframe tbody tr th {\n",
       "        vertical-align: top;\n",
       "    }\n",
       "\n",
       "    .dataframe thead th {\n",
       "        text-align: right;\n",
       "    }\n",
       "</style>\n",
       "<table border=\"1\" class=\"dataframe\">\n",
       "  <thead>\n",
       "    <tr style=\"text-align: right;\">\n",
       "      <th></th>\n",
       "      <th>id_prod</th>\n",
       "      <th>date</th>\n",
       "      <th>session_id</th>\n",
       "      <th>client_id</th>\n",
       "      <th>price</th>\n",
       "      <th>categ</th>\n",
       "      <th>mois</th>\n",
       "      <th>total_ventes</th>\n",
       "      <th>ventes_mensuelles</th>\n",
       "      <th>taille_panier_moyen</th>\n",
       "      <th>panier_moyen</th>\n",
       "      <th>total_achats</th>\n",
       "    </tr>\n",
       "  </thead>\n",
       "  <tbody>\n",
       "    <tr>\n",
       "      <th>81613</th>\n",
       "      <td>1_362</td>\n",
       "      <td>2022-01-11 15:56:41.423617</td>\n",
       "      <td>s_148304</td>\n",
       "      <td>c_854</td>\n",
       "      <td>11.25</td>\n",
       "      <td>1</td>\n",
       "      <td>1</td>\n",
       "      <td>147</td>\n",
       "      <td>13.0</td>\n",
       "      <td>2.491525</td>\n",
       "      <td>11.285743</td>\n",
       "      <td>1594.79</td>\n",
       "    </tr>\n",
       "    <tr>\n",
       "      <th>395308</th>\n",
       "      <td>1_385</td>\n",
       "      <td>2022-09-19 19:19:09.535342</td>\n",
       "      <td>s_270493</td>\n",
       "      <td>c_1609</td>\n",
       "      <td>25.99</td>\n",
       "      <td>1</td>\n",
       "      <td>9</td>\n",
       "      <td>24427</td>\n",
       "      <td>2221.0</td>\n",
       "      <td>34.995702</td>\n",
       "      <td>12.771949</td>\n",
       "      <td>312247.61</td>\n",
       "    </tr>\n",
       "    <tr>\n",
       "      <th>534433</th>\n",
       "      <td>0_1578</td>\n",
       "      <td>2021-03-09 07:17:29.408425</td>\n",
       "      <td>s_3824</td>\n",
       "      <td>c_2224</td>\n",
       "      <td>17.79</td>\n",
       "      <td>0</td>\n",
       "      <td>3</td>\n",
       "      <td>87</td>\n",
       "      <td>8.0</td>\n",
       "      <td>2.718750</td>\n",
       "      <td>13.242344</td>\n",
       "      <td>1119.49</td>\n",
       "    </tr>\n",
       "  </tbody>\n",
       "</table>\n",
       "</div>"
      ],
      "text/plain": [
       "       id_prod                       date session_id client_id  price  categ  \\\n",
       "81613    1_362 2022-01-11 15:56:41.423617   s_148304     c_854  11.25      1   \n",
       "395308   1_385 2022-09-19 19:19:09.535342   s_270493    c_1609  25.99      1   \n",
       "534433  0_1578 2021-03-09 07:17:29.408425     s_3824    c_2224  17.79      0   \n",
       "\n",
       "        mois  total_ventes  ventes_mensuelles  taille_panier_moyen  \\\n",
       "81613      1           147               13.0             2.491525   \n",
       "395308     9         24427             2221.0            34.995702   \n",
       "534433     3            87                8.0             2.718750   \n",
       "\n",
       "        panier_moyen  total_achats  \n",
       "81613      11.285743       1594.79  \n",
       "395308     12.771949     312247.61  \n",
       "534433     13.242344       1119.49  "
      ]
     },
     "execution_count": 60,
     "metadata": {},
     "output_type": "execute_result"
    }
   ],
   "source": [
    "# Mois de la transaction\n",
    "# # ==============================================================================\n",
    "# Mois, de 1 à 12\n",
    "df_transactionsv1_products['mois'] = pd.DatetimeIndex(df_transactionsv1_products['date']).month \n",
    "df_transactionsv1_products.sample()\n",
    "\n",
    "# Variable temporaire de date fixe (jour)\n",
    "df_transactionsv1_products['date_fixe'] = df_transactionsv1_products['date'].dt.date \n",
    "\n",
    "df_transactionsv1_products= df_transactionsv1_products.merge(\n",
    "    df_transactionsv1_products.groupby('client_id').count()['date'].reset_index().rename(columns={'date': 'total_ventes'}),\n",
    "    how='left', on='client_id')\n",
    "df_transactionsv1_products.sample(3)\n",
    "\n",
    "df_transactionsv1_products['ventes_mensuelles'] = round(df_transactionsv1_products['total_ventes'] / 11)\n",
    "df_transactionsv1_products.sample()\n",
    "\n",
    "df_transactionsv1_products = df_transactionsv1_products.merge(\n",
    "    df_transactionsv1_products.pivot_table(\n",
    "        index=['client_id', 'date_fixe'], \n",
    "        values='price', \n",
    "        aggfunc='count').reset_index().pivot_table(\n",
    "        index='client_id').reset_index().rename(\n",
    "        columns={'price': 'taille_panier_moyen'}), \n",
    "    on='client_id', how='left')\n",
    "\n",
    "df_transactionsv1_products = df_transactionsv1_products.merge(\n",
    "    df_transactionsv1_products.pivot_table(\n",
    "        index=['client_id', 'date_fixe'], \n",
    "        values='price').reset_index().pivot_table(\n",
    "        index='client_id').reset_index().rename(\n",
    "        columns={'price': 'panier_moyen'}), \n",
    "    on='client_id', how='left').drop('date_fixe', axis=1)\n",
    "\n",
    "\n",
    "df_transactionsv1_products = df_transactionsv1_products.merge(\n",
    "    df_transactionsv1_products.pivot_table(\n",
    "    index='client_id', values='price', \n",
    "    aggfunc='sum').reset_index().rename(\n",
    "    columns={'price': 'total_achats'}),\n",
    "    on='client_id', how='left')\n",
    "df_transactionsv1_products.sample(3)"
   ]
  },
  {
   "cell_type": "markdown",
   "id": "d55a4127",
   "metadata": {},
   "source": [
    "En triant les clients par chiffre d'affaires annuel, **4 clients se détachent**. Leur nombre d'achats est anormalement plus élevé que celui des autres clients : on a sûrement affaire à des clients professionels."
   ]
  },
  {
   "cell_type": "code",
   "execution_count": 61,
   "id": "09e091da",
   "metadata": {},
   "outputs": [
    {
     "data": {
      "text/html": [
       "<div>\n",
       "<style scoped>\n",
       "    .dataframe tbody tr th:only-of-type {\n",
       "        vertical-align: middle;\n",
       "    }\n",
       "\n",
       "    .dataframe tbody tr th {\n",
       "        vertical-align: top;\n",
       "    }\n",
       "\n",
       "    .dataframe thead th {\n",
       "        text-align: right;\n",
       "    }\n",
       "</style>\n",
       "<table border=\"1\" class=\"dataframe\">\n",
       "  <thead>\n",
       "    <tr style=\"text-align: right;\">\n",
       "      <th></th>\n",
       "      <th>client_id</th>\n",
       "      <th>panier_moyen</th>\n",
       "      <th>taille_panier_moyen</th>\n",
       "      <th>total_achats</th>\n",
       "      <th>total_ventes</th>\n",
       "      <th>ventes_mensuelles</th>\n",
       "    </tr>\n",
       "  </thead>\n",
       "  <tbody>\n",
       "    <tr>\n",
       "      <th>0</th>\n",
       "      <td>c_1609</td>\n",
       "      <td>12.771949</td>\n",
       "      <td>34.995702</td>\n",
       "      <td>312247.61</td>\n",
       "      <td>24427</td>\n",
       "      <td>2221.0</td>\n",
       "    </tr>\n",
       "    <tr>\n",
       "      <th>1</th>\n",
       "      <td>c_4958</td>\n",
       "      <td>55.443063</td>\n",
       "      <td>7.327089</td>\n",
       "      <td>282289.70</td>\n",
       "      <td>5085</td>\n",
       "      <td>462.0</td>\n",
       "    </tr>\n",
       "    <tr>\n",
       "      <th>2</th>\n",
       "      <td>c_6714</td>\n",
       "      <td>16.853361</td>\n",
       "      <td>13.187221</td>\n",
       "      <td>149484.49</td>\n",
       "      <td>8875</td>\n",
       "      <td>807.0</td>\n",
       "    </tr>\n",
       "    <tr>\n",
       "      <th>3</th>\n",
       "      <td>c_3454</td>\n",
       "      <td>16.684837</td>\n",
       "      <td>9.488539</td>\n",
       "      <td>111638.84</td>\n",
       "      <td>6623</td>\n",
       "      <td>602.0</td>\n",
       "    </tr>\n",
       "    <tr>\n",
       "      <th>4</th>\n",
       "      <td>c_2899</td>\n",
       "      <td>55.754703</td>\n",
       "      <td>1.640625</td>\n",
       "      <td>5214.05</td>\n",
       "      <td>105</td>\n",
       "      <td>10.0</td>\n",
       "    </tr>\n",
       "    <tr>\n",
       "      <th>5</th>\n",
       "      <td>c_1570</td>\n",
       "      <td>14.995217</td>\n",
       "      <td>2.676692</td>\n",
       "      <td>5136.14</td>\n",
       "      <td>356</td>\n",
       "      <td>32.0</td>\n",
       "    </tr>\n",
       "    <tr>\n",
       "      <th>6</th>\n",
       "      <td>c_3263</td>\n",
       "      <td>13.237727</td>\n",
       "      <td>3.015385</td>\n",
       "      <td>5129.89</td>\n",
       "      <td>392</td>\n",
       "      <td>36.0</td>\n",
       "    </tr>\n",
       "    <tr>\n",
       "      <th>7</th>\n",
       "      <td>c_7319</td>\n",
       "      <td>13.468139</td>\n",
       "      <td>2.744361</td>\n",
       "      <td>5078.48</td>\n",
       "      <td>365</td>\n",
       "      <td>33.0</td>\n",
       "    </tr>\n",
       "    <tr>\n",
       "      <th>8</th>\n",
       "      <td>c_8026</td>\n",
       "      <td>13.771828</td>\n",
       "      <td>2.844961</td>\n",
       "      <td>4969.41</td>\n",
       "      <td>367</td>\n",
       "      <td>33.0</td>\n",
       "    </tr>\n",
       "    <tr>\n",
       "      <th>9</th>\n",
       "      <td>c_5263</td>\n",
       "      <td>59.497734</td>\n",
       "      <td>1.500000</td>\n",
       "      <td>4964.87</td>\n",
       "      <td>96</td>\n",
       "      <td>9.0</td>\n",
       "    </tr>\n",
       "  </tbody>\n",
       "</table>\n",
       "</div>"
      ],
      "text/plain": [
       "  client_id  panier_moyen  taille_panier_moyen  total_achats  total_ventes  \\\n",
       "0    c_1609     12.771949            34.995702     312247.61         24427   \n",
       "1    c_4958     55.443063             7.327089     282289.70          5085   \n",
       "2    c_6714     16.853361            13.187221     149484.49          8875   \n",
       "3    c_3454     16.684837             9.488539     111638.84          6623   \n",
       "4    c_2899     55.754703             1.640625       5214.05           105   \n",
       "5    c_1570     14.995217             2.676692       5136.14           356   \n",
       "6    c_3263     13.237727             3.015385       5129.89           392   \n",
       "7    c_7319     13.468139             2.744361       5078.48           365   \n",
       "8    c_8026     13.771828             2.844961       4969.41           367   \n",
       "9    c_5263     59.497734             1.500000       4964.87            96   \n",
       "\n",
       "   ventes_mensuelles  \n",
       "0             2221.0  \n",
       "1              462.0  \n",
       "2              807.0  \n",
       "3              602.0  \n",
       "4               10.0  \n",
       "5               32.0  \n",
       "6               36.0  \n",
       "7               33.0  \n",
       "8               33.0  \n",
       "9                9.0  "
      ]
     },
     "execution_count": 61,
     "metadata": {},
     "output_type": "execute_result"
    }
   ],
   "source": [
    "# Les 10 clients aux plus gros chiffres d'affaires annuels\n",
    "# # ==============================================================================\n",
    "ca_annuel = df_transactionsv1_products.pivot_table(\n",
    "     index='client_id', values=[\n",
    "         'total_achats','ventes_mensuelles','taille_panier_moyen','total_ventes','panier_moyen']\n",
    "     ).sort_values(by='total_achats', ascending=False).reset_index()\n",
    "\n",
    "ca_annuel.head(10) "
   ]
  },
  {
   "cell_type": "markdown",
   "id": "04adbd19",
   "metadata": {},
   "source": [
    "Le poids de ces 4 individus risquant d'impacter l'analyse sur des variables comme le sexe ou l'âge, **on distinguera les clients professionnels des particuliers**."
   ]
  },
  {
   "cell_type": "code",
   "execution_count": 132,
   "id": "c6a1f44f",
   "metadata": {},
   "outputs": [
    {
     "name": "stderr",
     "output_type": "stream",
     "text": [
      "C:\\Users\\s\\anaconda3\\lib\\site-packages\\pandas\\core\\indexing.py:1637: SettingWithCopyWarning: \n",
      "A value is trying to be set on a copy of a slice from a DataFrame\n",
      "\n",
      "See the caveats in the documentation: https://pandas.pydata.org/pandas-docs/stable/user_guide/indexing.html#returning-a-view-versus-a-copy\n",
      "  self._setitem_single_block(indexer, value, name)\n"
     ]
    },
    {
     "data": {
      "text/html": [
       "<div>\n",
       "<style scoped>\n",
       "    .dataframe tbody tr th:only-of-type {\n",
       "        vertical-align: middle;\n",
       "    }\n",
       "\n",
       "    .dataframe tbody tr th {\n",
       "        vertical-align: top;\n",
       "    }\n",
       "\n",
       "    .dataframe thead th {\n",
       "        text-align: right;\n",
       "    }\n",
       "</style>\n",
       "<table border=\"1\" class=\"dataframe\">\n",
       "  <thead>\n",
       "    <tr style=\"text-align: right;\">\n",
       "      <th></th>\n",
       "      <th>id_prod</th>\n",
       "      <th>date</th>\n",
       "      <th>session_id</th>\n",
       "      <th>client_id</th>\n",
       "      <th>price</th>\n",
       "      <th>categ</th>\n",
       "      <th>mois</th>\n",
       "      <th>total_ventes</th>\n",
       "      <th>ventes_mensuelles</th>\n",
       "      <th>taille_panier_moyen</th>\n",
       "      <th>panier_moyen</th>\n",
       "      <th>total_achats</th>\n",
       "      <th>client_type</th>\n",
       "    </tr>\n",
       "  </thead>\n",
       "  <tbody>\n",
       "    <tr>\n",
       "      <th>228367</th>\n",
       "      <td>0_1212</td>\n",
       "      <td>2021-09-24 15:40:39.135404</td>\n",
       "      <td>s_94821</td>\n",
       "      <td>c_1422</td>\n",
       "      <td>6.31</td>\n",
       "      <td>0</td>\n",
       "      <td>9</td>\n",
       "      <td>362</td>\n",
       "      <td>33.0</td>\n",
       "      <td>2.919355</td>\n",
       "      <td>13.891385</td>\n",
       "      <td>4878.25</td>\n",
       "      <td>B2C</td>\n",
       "    </tr>\n",
       "    <tr>\n",
       "      <th>478880</th>\n",
       "      <td>2_104</td>\n",
       "      <td>2022-11-08 23:14:00.040888</td>\n",
       "      <td>s_294808</td>\n",
       "      <td>c_7272</td>\n",
       "      <td>43.35</td>\n",
       "      <td>2</td>\n",
       "      <td>11</td>\n",
       "      <td>32</td>\n",
       "      <td>3.0</td>\n",
       "      <td>1.066667</td>\n",
       "      <td>41.804667</td>\n",
       "      <td>1345.38</td>\n",
       "      <td>B2C</td>\n",
       "    </tr>\n",
       "    <tr>\n",
       "      <th>547147</th>\n",
       "      <td>0_1293</td>\n",
       "      <td>2022-01-22 13:10:16.168231</td>\n",
       "      <td>s_153530</td>\n",
       "      <td>c_2379</td>\n",
       "      <td>11.99</td>\n",
       "      <td>0</td>\n",
       "      <td>1</td>\n",
       "      <td>93</td>\n",
       "      <td>8.0</td>\n",
       "      <td>2.906250</td>\n",
       "      <td>13.936976</td>\n",
       "      <td>1340.33</td>\n",
       "      <td>B2C</td>\n",
       "    </tr>\n",
       "  </tbody>\n",
       "</table>\n",
       "</div>"
      ],
      "text/plain": [
       "       id_prod                       date session_id client_id  price  categ  \\\n",
       "228367  0_1212 2021-09-24 15:40:39.135404    s_94821    c_1422   6.31      0   \n",
       "478880   2_104 2022-11-08 23:14:00.040888   s_294808    c_7272  43.35      2   \n",
       "547147  0_1293 2022-01-22 13:10:16.168231   s_153530    c_2379  11.99      0   \n",
       "\n",
       "        mois  total_ventes  ventes_mensuelles  taille_panier_moyen  \\\n",
       "228367     9           362               33.0             2.919355   \n",
       "478880    11            32                3.0             1.066667   \n",
       "547147     1            93                8.0             2.906250   \n",
       "\n",
       "        panier_moyen  total_achats client_type  \n",
       "228367     13.891385       4878.25         B2C  \n",
       "478880     41.804667       1345.38         B2C  \n",
       "547147     13.936976       1340.33         B2C  "
      ]
     },
     "execution_count": 132,
     "metadata": {},
     "output_type": "execute_result"
    }
   ],
   "source": [
    "# Création d'une variable 'Type' de client (2 modalités : particulier ou professionnel)\n",
    "# # ==============================================================================\n",
    "df_transactionsv1_products['client_type'] = 'B2C'\n",
    "df_transactionsv1_products['client_type'].loc[df_transactionsv1_products[df_transactionsv1_products['client_id'].isin(ca_annuel.head(4)['client_id'])].index] = 'B2B'\n",
    "\n",
    "# Création de 2 dataframe\n",
    "# # ==============================================================================\n",
    "b2b = df_transactionsv1_products[df_transactionsv1_products['client_type']=='B2B']\n",
    "b2c = df_transactionsv1_products[df_transactionsv1_products['client_type']=='B2C']\n",
    "\n",
    "df_transactionsv1_products.sample(3)"
   ]
  },
  {
   "cell_type": "code",
   "execution_count": 133,
   "id": "4574e13c",
   "metadata": {},
   "outputs": [
    {
     "data": {
      "text/plain": [
       "Text(0.5, 1.0, 'Volume des transactions par type de client')"
      ]
     },
     "execution_count": 133,
     "metadata": {},
     "output_type": "execute_result"
    },
    {
     "data": {
      "image/png": "[encoded data removed]",
      "text/plain": [
       "<Figure size 1008x504 with 1 Axes>"
      ]
     },
     "metadata": {},
     "output_type": "display_data"
    }
   ],
   "source": [
    "# Visualisation de la proportion des transactions entre professionnels et particuliers\n",
    "# # ==============================================================================\n",
    "plt.figure(figsize=(14, 7))\n",
    "df_transactionsv1_products['client_type'].value_counts(normalize=True).plot(\n",
    "    kind='pie',\n",
    "    legend=True,\n",
    "    autopct='%1.1f%%')\n",
    "plt.title('Volume des transactions par type de client')"
   ]
  },
  {
   "cell_type": "markdown",
   "id": "f1a2cc3d",
   "metadata": {},
   "source": [
    ">> ## <span style=\"color:dark green\">3.3 Analyser la tendance globale: variable 'price' (df_transactionsv1_products)\n",
    "\n",
    "* Mesures de tendance centrale et dispersion des prix produits (toutes catégories confondues)"
   ]
  },
  {
   "cell_type": "code",
   "execution_count": 65,
   "id": "9832f86c",
   "metadata": {},
   "outputs": [
    {
     "data": {
      "text/plain": [
       "17.55"
      ]
     },
     "execution_count": 65,
     "metadata": {},
     "output_type": "execute_result"
    }
   ],
   "source": [
    "#Calcul de la Moyenne des prix produits vendus \n",
    "# # ==============================================================================\n",
    "round(df_transactionsv1_products['price'].mean(), 2)"
   ]
  },
  {
   "cell_type": "code",
   "execution_count": 66,
   "id": "cd88216d",
   "metadata": {},
   "outputs": [
    {
     "data": {
      "text/plain": [
       "13.99"
      ]
     },
     "execution_count": 66,
     "metadata": {},
     "output_type": "execute_result"
    }
   ],
   "source": [
    "#Calcul de la Mediane des prix produits vendus\n",
    "# # ==============================================================================\n",
    "df_transactionsv1_products['price'].median()"
   ]
  },
  {
   "cell_type": "code",
   "execution_count": 67,
   "id": "37fda5c7",
   "metadata": {},
   "outputs": [
    {
     "data": {
      "text/plain": [
       "0    15.99\n",
       "dtype: float64"
      ]
     },
     "execution_count": 67,
     "metadata": {},
     "output_type": "execute_result"
    }
   ],
   "source": [
    "#Calcul du Mode des prix produits vendus\n",
    "# # ==============================================================================\n",
    "df_transactionsv1_products['price'].mode()"
   ]
  },
  {
   "cell_type": "code",
   "execution_count": 68,
   "id": "7e831be6",
   "metadata": {},
   "outputs": [
    {
     "data": {
      "text/plain": [
       "336.82"
      ]
     },
     "execution_count": 68,
     "metadata": {},
     "output_type": "execute_result"
    }
   ],
   "source": [
    "#Calcul de la Variance des prix produits vendus\n",
    "# # ==============================================================================\n",
    "round(df_transactionsv1_products['price'].var(ddof=0), 2)"
   ]
  },
  {
   "cell_type": "code",
   "execution_count": 69,
   "id": "2df74a9a",
   "metadata": {},
   "outputs": [
    {
     "data": {
      "text/plain": [
       "18.35"
      ]
     },
     "execution_count": 69,
     "metadata": {},
     "output_type": "execute_result"
    }
   ],
   "source": [
    "#Calcul de l'écart type des prix produits vendus\n",
    "# # ==============================================================================\n",
    "round(df_transactionsv1_products['price'].std(ddof=0), 2)"
   ]
  },
  {
   "cell_type": "code",
   "execution_count": 134,
   "id": "a7fd97e8",
   "metadata": {},
   "outputs": [
    {
     "data": {
      "image/png": "[encoded data removed]",
      "text/plain": [
       "<Figure size 1008x504 with 1 Axes>"
      ]
     },
     "metadata": {
      "needs_background": "light"
     },
     "output_type": "display_data"
    }
   ],
   "source": [
    "#Visualisation (Histogramme)de la distribution des prix produits\n",
    "# # ==============================================================================\n",
    "df_transactionsv1_products['price'].hist(color='#0504aa', alpha=0.5, density=True, bins=20, figsize=(14, 7))\n",
    "\n",
    "plt.title('Distribution de la variable \"price\"')\n",
    "plt.xlabel('Prix produits(€)')\n",
    "plt.ylabel('Fréquence d\\'apparition')\n",
    "\n",
    "plt.show()"
   ]
  },
  {
   "cell_type": "markdown",
   "id": "219e7bd0",
   "metadata": {},
   "source": [
    "* La distribution de prix avec un pic autour entre 0,62€ et 15€ et un autre autour entre 15€ et 30€.\n",
    "* Les prix ont varié entre 0,62€ et 300€.\n",
    "* Plus bas nous verrons la distribution des prix produits par catégorie."
   ]
  },
  {
   "cell_type": "markdown",
   "id": "ec02980c",
   "metadata": {},
   "source": [
    ">>>### <span style=\"color:dark green\">3.3.1 Mesure de concentration des prix produits (toutes catégories confondues)"
   ]
  },
  {
   "cell_type": "code",
   "execution_count": 71,
   "id": "0b305b81",
   "metadata": {},
   "outputs": [
    {
     "data": {
      "image/png": "[encoded data removed]",
      "text/plain": [
       "<Figure size 432x288 with 1 Axes>"
      ]
     },
     "metadata": {
      "needs_background": "light"
     },
     "output_type": "display_data"
    }
   ],
   "source": [
    "#Courbe de Lorenz sur la variables des prix\n",
    "# # ==============================================================================\n",
    "price = df_transactionsv1_products['price'].values\n",
    "\n",
    "#Sélection du sous-échantillon de travail que l'on appelle price\n",
    "#On place les observations dans une variable\n",
    "# # ==============================================================================\n",
    "lorenz_price = np.cumsum(np.sort(price)) / price.sum()\n",
    "\n",
    "#Tri des individus dans l'ordre croissant des valeurs de la variable, \n",
    "#Calcul de la somme cumulée et normalisation en divisant par la somme des observations\n",
    "# # ==============================================================================\n",
    "plt.plot(np.linspace(0,1,len(lorenz_price)), lorenz_price, drawstyle='steps-post', color='rosybrown', label='Lorenz')\n",
    "plt.fill_between(np.linspace(0,1,len(lorenz_price)) ,lorenz_price , color='#539ecd')\n",
    "plt.plot([0, 1], [0, 1], 'r-', lw=2, label='Distribution égalitaire')\n",
    "plt.vlines(x=.76, ymin=0, ymax=.5, color='blue', linestyle='--', linewidth=1, label='Medial')\n",
    "plt.hlines(xmin=.76, xmax=0, y=.5, color='blue', linestyle='--', linewidth=1)\n",
    "\n",
    "plt.title('Courbe de Lorenz des prix de vente')\n",
    "plt.xlabel(\"Distribution des ventes (%)\")\n",
    "plt.ylabel(\"Cumul des prix de ventes (%)\")\n",
    "plt.legend(loc=\"best\")\n",
    "\n",
    "plt.show()\n"
   ]
  },
  {
   "cell_type": "markdown",
   "id": "b22603df",
   "metadata": {},
   "source": [
    "On constate que **76%** des ventes représentent **50%** du montant total des prix de vente. \n",
    "\n",
    "Ce n'est pas une égalité totale, mais acceptable dans notre contexte business."
   ]
  },
  {
   "cell_type": "code",
   "execution_count": 72,
   "id": "00e3ac33",
   "metadata": {},
   "outputs": [
    {
     "name": "stdout",
     "output_type": "stream",
     "text": [
      "L'indice de Gini est égal à 0.39\n"
     ]
    }
   ],
   "source": [
    "#Aire sous la courbe de Lorenz. La dernière valeur ne participe pas à l'aire, d'où \"[:-1]\"\n",
    "# # ==============================================================================\n",
    "aire_ss_courbe_price = lorenz_price[:-1].sum()/len(lorenz_price) \n",
    "\n",
    "#Aire entre la 1e bissectrice et la courbe de Lorenz\n",
    "# # ==============================================================================\n",
    "S = 0.5 - aire_ss_courbe_price \n",
    "gini_price = round(2*S, 2)\n",
    "\n",
    "print(\"L'indice de Gini est égal à {}\".format(gini_price))"
   ]
  },
  {
   "cell_type": "markdown",
   "id": "d2e055a6",
   "metadata": {},
   "source": [
    "Confirmation avec l'indice de Gini plus proche de 0 que de 1, les prix pratiqués ont tendance à être **équitables**."
   ]
  },
  {
   "cell_type": "markdown",
   "id": "267cd871",
   "metadata": {},
   "source": [
    ">> ## <span style=\"color:dark green\">3.4 Analyse sectorielle de l'activité : La répartition par catégorie (df_transactionsv1_products)"
   ]
  },
  {
   "cell_type": "code",
   "execution_count": 73,
   "id": "f0ba5b67",
   "metadata": {},
   "outputs": [
    {
     "data": {
      "text/html": [
       "<div>\n",
       "<style scoped>\n",
       "    .dataframe tbody tr th:only-of-type {\n",
       "        vertical-align: middle;\n",
       "    }\n",
       "\n",
       "    .dataframe tbody tr th {\n",
       "        vertical-align: top;\n",
       "    }\n",
       "\n",
       "    .dataframe thead th {\n",
       "        text-align: right;\n",
       "    }\n",
       "</style>\n",
       "<table border=\"1\" class=\"dataframe\">\n",
       "  <thead>\n",
       "    <tr style=\"text-align: right;\">\n",
       "      <th></th>\n",
       "      <th>categ</th>\n",
       "      <th>n</th>\n",
       "      <th>f</th>\n",
       "    </tr>\n",
       "  </thead>\n",
       "  <tbody>\n",
       "    <tr>\n",
       "      <th>0</th>\n",
       "      <td>0</td>\n",
       "      <td>395747</td>\n",
       "      <td>0.603088</td>\n",
       "    </tr>\n",
       "    <tr>\n",
       "      <th>1</th>\n",
       "      <td>1</td>\n",
       "      <td>225161</td>\n",
       "      <td>0.343128</td>\n",
       "    </tr>\n",
       "    <tr>\n",
       "      <th>2</th>\n",
       "      <td>2</td>\n",
       "      <td>35293</td>\n",
       "      <td>0.053784</td>\n",
       "    </tr>\n",
       "  </tbody>\n",
       "</table>\n",
       "</div>"
      ],
      "text/plain": [
       "   categ       n         f\n",
       "0      0  395747  0.603088\n",
       "1      1  225161  0.343128\n",
       "2      2   35293  0.053784"
      ]
     },
     "execution_count": 73,
     "metadata": {},
     "output_type": "execute_result"
    }
   ],
   "source": [
    "#Représentation des effectifs par catégories de vente(méthode .value_counts())\n",
    "# # ==============================================================================\n",
    "\n",
    "#l'index de 'effectifs' contient les modalités\n",
    "effectif = df_transactionsv1_products['categ'].value_counts()\n",
    "modalite = effectif.index \n",
    "\n",
    "#création du tableau à partir des modalités\n",
    "tab = pd.DataFrame(modalite, columns = ['categ']) \n",
    "tab[\"n\"] = effectif.values\n",
    "\n",
    "#len(df_transactionsv1_products) renvoie la taille de l'échantillon\n",
    "tab[\"f\"] = tab[\"n\"] / len(df_transactionsv1_products) \n",
    "tab"
   ]
  },
  {
   "cell_type": "code",
   "execution_count": 74,
   "id": "7dd293bb",
   "metadata": {},
   "outputs": [
    {
     "data": {
      "text/html": [
       "<div>\n",
       "<style scoped>\n",
       "    .dataframe tbody tr th:only-of-type {\n",
       "        vertical-align: middle;\n",
       "    }\n",
       "\n",
       "    .dataframe tbody tr th {\n",
       "        vertical-align: top;\n",
       "    }\n",
       "\n",
       "    .dataframe thead th {\n",
       "        text-align: right;\n",
       "    }\n",
       "</style>\n",
       "<table border=\"1\" class=\"dataframe\">\n",
       "  <thead>\n",
       "    <tr style=\"text-align: right;\">\n",
       "      <th></th>\n",
       "      <th>categ</th>\n",
       "      <th>n</th>\n",
       "      <th>f</th>\n",
       "      <th>F</th>\n",
       "    </tr>\n",
       "  </thead>\n",
       "  <tbody>\n",
       "    <tr>\n",
       "      <th>0</th>\n",
       "      <td>0</td>\n",
       "      <td>395747</td>\n",
       "      <td>0.603088</td>\n",
       "      <td>0.603088</td>\n",
       "    </tr>\n",
       "    <tr>\n",
       "      <th>1</th>\n",
       "      <td>1</td>\n",
       "      <td>225161</td>\n",
       "      <td>0.343128</td>\n",
       "      <td>0.946216</td>\n",
       "    </tr>\n",
       "    <tr>\n",
       "      <th>2</th>\n",
       "      <td>2</td>\n",
       "      <td>35293</td>\n",
       "      <td>0.053784</td>\n",
       "      <td>1.000000</td>\n",
       "    </tr>\n",
       "  </tbody>\n",
       "</table>\n",
       "</div>"
      ],
      "text/plain": [
       "   categ       n         f         F\n",
       "0      0  395747  0.603088  0.603088\n",
       "1      1  225161  0.343128  0.946216\n",
       "2      2   35293  0.053784  1.000000"
      ]
     },
     "execution_count": 74,
     "metadata": {},
     "output_type": "execute_result"
    }
   ],
   "source": [
    "#Fréquences cumulées\n",
    "# # ==============================================================================\n",
    "tab = tab.sort_values(\"categ\") # tri des valeurs de la variable X (croissant)\n",
    "tab[\"F\"] = tab[\"f\"].cumsum() # cumsum calcule la somme cumulée\n",
    "tab"
   ]
  },
  {
   "cell_type": "code",
   "execution_count": 135,
   "id": "85c2c230",
   "metadata": {},
   "outputs": [
    {
     "data": {
      "image/png": "[encoded data removed]",
      "text/plain": [
       "<Figure size 864x432 with 1 Axes>"
      ]
     },
     "metadata": {},
     "output_type": "display_data"
    }
   ],
   "source": [
    "#Pie Chart pour représenter la part de chacune des catégories de vente\n",
    "# # ==============================================================================\n",
    "labels = 'Cat 0', 'Cat 1', 'Cat 2'\n",
    "sizes = tab['f']\n",
    "explode = (0.06, 0, 0)\n",
    "\n",
    "fig1, ax1 = plt.subplots(figsize=(12,6))\n",
    "ax1.pie(sizes, explode=explode, labels=labels, autopct='%1.1f%%', shadow=False, startangle=90)\n",
    "\n",
    "ax1.axis('equal') \n",
    "plt.title('Répartition des catégories')\n",
    "\n",
    "plt.show()"
   ]
  },
  {
   "cell_type": "markdown",
   "id": "2872a729",
   "metadata": {},
   "source": [
    "La catégorie 0 est la plus recherchée, avec un peu plus de **60%**, suivie de la catégorie 1 avec un peu plus de **34%** et enfin de la catégorie 2 avec **5,4%**."
   ]
  },
  {
   "cell_type": "code",
   "execution_count": 136,
   "id": "eb0ed84f",
   "metadata": {},
   "outputs": [
    {
     "data": {
      "image/png": "[encoded data removed]",
      "text/plain": [
       "<Figure size 864x432 with 1 Axes>"
      ]
     },
     "metadata": {
      "needs_background": "light"
     },
     "output_type": "display_data"
    }
   ],
   "source": [
    "#Comparaison de distribution des prix produits par catégorie avec un boxplot\n",
    "# # ==============================================================================\n",
    "subset = df_transactionsv1_products[df_transactionsv1_products.price < 100]\n",
    "subset.boxplot(column='price', by='categ', showmeans=True, figsize=(12,6))\n",
    "\n",
    "plt.title('Dispersion des prix de vente par catégorie')\n",
    "plt.xlabel('Catégories')\n",
    "plt.ylabel('Prix produits(€)')\n",
    "\n",
    "plt.show()"
   ]
  },
  {
   "cell_type": "markdown",
   "id": "366cd2f8",
   "metadata": {},
   "source": [
    "La distribution des prix au sein de chacune des catégories n'est pas symétrique puisqu'elle ne présente pas la même forme de part et d’autre du centre de la distribution. \n",
    "\n",
    "Nous avons presque une **égalité entre la Moyenne et la Médiane**, mais le **Mode est à chaque fois plus éloigné**."
   ]
  },
  {
   "cell_type": "code",
   "execution_count": 150,
   "id": "b6b6afd3",
   "metadata": {},
   "outputs": [
    {
     "data": {
      "image/png": "[encoded data removed]",
      "text/plain": [
       "<Figure size 1008x504 with 1 Axes>"
      ]
     },
     "metadata": {
      "needs_background": "light"
     },
     "output_type": "display_data"
    }
   ],
   "source": [
    "#Autre représentation possible avec Seaborn\n",
    "# # ==============================================================================\n",
    "plt.figure(figsize=(14, 7))\n",
    "sns.boxplot(x = 'categ', y = 'price', data = df_transactionsv1_products, palette=\"Set2\")\n",
    "\n",
    "plt.title('Dispersion des prix de vente par catégorie')\n",
    "\n",
    "plt.show()"
   ]
  },
  {
   "cell_type": "markdown",
   "id": "1f57babd",
   "metadata": {},
   "source": [
    "Les 3 catégories n'ont pas les mêmes types (ou gamme)de produits. La catégorie 2 par exemple a un **prix moyen proche des 60€** avec des outliers en queue de distribution jusqu'à 300€."
   ]
  },
  {
   "cell_type": "markdown",
   "id": "18f3c1b5",
   "metadata": {},
   "source": [
    ">>>### <span style=\"color:dark green\">3.4.1 Analyse des produits disponibles par catégorie"
   ]
  },
  {
   "cell_type": "code",
   "execution_count": 78,
   "id": "54ef642d",
   "metadata": {},
   "outputs": [
    {
     "data": {
      "text/plain": [
       "2308"
      ]
     },
     "execution_count": 78,
     "metadata": {},
     "output_type": "execute_result"
    }
   ],
   "source": [
    "#Comptage des produits présents en catégorie 0\n",
    "# # ==============================================================================\n",
    "len(df_products[df_products.categ == 0].groupby('id_prod'))"
   ]
  },
  {
   "cell_type": "code",
   "execution_count": 79,
   "id": "947ec318",
   "metadata": {},
   "outputs": [
    {
     "data": {
      "text/plain": [
       "739"
      ]
     },
     "execution_count": 79,
     "metadata": {},
     "output_type": "execute_result"
    }
   ],
   "source": [
    "#Comptage des produits présents en catégorie 1\n",
    "# # ==============================================================================\n",
    "len(df_products[df_products.categ == 1].groupby('id_prod'))"
   ]
  },
  {
   "cell_type": "code",
   "execution_count": 80,
   "id": "52f18772",
   "metadata": {},
   "outputs": [
    {
     "data": {
      "text/plain": [
       "239"
      ]
     },
     "execution_count": 80,
     "metadata": {},
     "output_type": "execute_result"
    }
   ],
   "source": [
    "#Comptage des produits présents en catégorie 2\n",
    "# # ==============================================================================\n",
    "len(df_products[df_products.categ == 2].groupby('id_prod'))"
   ]
  },
  {
   "cell_type": "markdown",
   "id": "16315137",
   "metadata": {},
   "source": [
    "Une offre produit qui reste cohérente devant les transactions enregistrées, avec visiblement **peu de choix en catégorie 2**."
   ]
  },
  {
   "cell_type": "markdown",
   "id": "5afbf75a",
   "metadata": {},
   "source": [
    ">> ## <span style=\"color:dark green\">3.5 Analyse sur les profils clients"
   ]
  },
  {
   "cell_type": "markdown",
   "id": "b8833004",
   "metadata": {},
   "source": [
    ">>>### <span style=\"color:dark green\">3.5.1 Variable 'birth' (df_transactions_customers)"
   ]
  },
  {
   "cell_type": "code",
   "execution_count": 81,
   "id": "2bb80ae5",
   "metadata": {},
   "outputs": [
    {
     "data": {
      "text/html": [
       "<div>\n",
       "<style scoped>\n",
       "    .dataframe tbody tr th:only-of-type {\n",
       "        vertical-align: middle;\n",
       "    }\n",
       "\n",
       "    .dataframe tbody tr th {\n",
       "        vertical-align: top;\n",
       "    }\n",
       "\n",
       "    .dataframe thead th {\n",
       "        text-align: right;\n",
       "    }\n",
       "</style>\n",
       "<table border=\"1\" class=\"dataframe\">\n",
       "  <thead>\n",
       "    <tr style=\"text-align: right;\">\n",
       "      <th></th>\n",
       "      <th>id_prod</th>\n",
       "      <th>date</th>\n",
       "      <th>session_id</th>\n",
       "      <th>client_id</th>\n",
       "      <th>sex</th>\n",
       "      <th>birth</th>\n",
       "    </tr>\n",
       "  </thead>\n",
       "  <tbody>\n",
       "    <tr>\n",
       "      <th>0</th>\n",
       "      <td>0_1518</td>\n",
       "      <td>2022-05-20 13:21:29.043970</td>\n",
       "      <td>s_211425</td>\n",
       "      <td>c_103</td>\n",
       "      <td>f</td>\n",
       "      <td>1986</td>\n",
       "    </tr>\n",
       "    <tr>\n",
       "      <th>1</th>\n",
       "      <td>0_1627</td>\n",
       "      <td>2022-06-18 05:55:31.816994</td>\n",
       "      <td>s_225494</td>\n",
       "      <td>c_103</td>\n",
       "      <td>f</td>\n",
       "      <td>1986</td>\n",
       "    </tr>\n",
       "    <tr>\n",
       "      <th>2</th>\n",
       "      <td>0_1104</td>\n",
       "      <td>2023-02-08 17:31:06.898425</td>\n",
       "      <td>s_338755</td>\n",
       "      <td>c_103</td>\n",
       "      <td>f</td>\n",
       "      <td>1986</td>\n",
       "    </tr>\n",
       "    <tr>\n",
       "      <th>3</th>\n",
       "      <td>0_1390</td>\n",
       "      <td>2021-04-20 06:18:39.939761</td>\n",
       "      <td>s_23078</td>\n",
       "      <td>c_103</td>\n",
       "      <td>f</td>\n",
       "      <td>1986</td>\n",
       "    </tr>\n",
       "    <tr>\n",
       "      <th>4</th>\n",
       "      <td>0_1547</td>\n",
       "      <td>2022-03-15 19:54:53.904123</td>\n",
       "      <td>s_179629</td>\n",
       "      <td>c_103</td>\n",
       "      <td>f</td>\n",
       "      <td>1986</td>\n",
       "    </tr>\n",
       "  </tbody>\n",
       "</table>\n",
       "</div>"
      ],
      "text/plain": [
       "  id_prod                       date session_id client_id sex  birth\n",
       "0  0_1518 2022-05-20 13:21:29.043970   s_211425     c_103   f   1986\n",
       "1  0_1627 2022-06-18 05:55:31.816994   s_225494     c_103   f   1986\n",
       "2  0_1104 2023-02-08 17:31:06.898425   s_338755     c_103   f   1986\n",
       "3  0_1390 2021-04-20 06:18:39.939761    s_23078     c_103   f   1986\n",
       "4  0_1547 2022-03-15 19:54:53.904123   s_179629     c_103   f   1986"
      ]
     },
     "execution_count": 81,
     "metadata": {},
     "output_type": "execute_result"
    }
   ],
   "source": [
    "#Préparation des données.\n",
    "\n",
    "#Jointure des données transactionnelles et clients (méthode .merge())\n",
    "# # ==============================================================================\n",
    "df_transactionsv1_customers = pd.merge(df_transactionsv1, df_customers, on='client_id')\n",
    "df_transactionsv1_customers.head()"
   ]
  },
  {
   "cell_type": "code",
   "execution_count": 82,
   "id": "3bc777f5",
   "metadata": {},
   "outputs": [],
   "source": [
    "#Ajout d'une colonne'age' pour faciliter l'analyse\n",
    "# # ==============================================================================\n",
    "df_transactionsv1_customers['age'] = 2022 - df_transactionsv1_customers.birth"
   ]
  },
  {
   "cell_type": "code",
   "execution_count": 151,
   "id": "7969dc7f",
   "metadata": {},
   "outputs": [
    {
     "data": {
      "image/png": "[encoded data removed]",
      "text/plain": [
       "<Figure size 1008x504 with 1 Axes>"
      ]
     },
     "metadata": {
      "needs_background": "light"
     },
     "output_type": "display_data"
    }
   ],
   "source": [
    "#Visualisation (Histogramme)de la distribution de l'âge clients\n",
    "# # ==============================================================================\n",
    "plt.figure(figsize=(14, 7))\n",
    "df_transactionsv1_customers['age'].hist(density=True, alpha=0.5, bins=20)\n",
    "\n",
    "plt.xlabel('Âges')\n",
    "plt.title('Distribution des âges clients')\n",
    "\n",
    "plt.show()"
   ]
  },
  {
   "cell_type": "markdown",
   "id": "0681471a",
   "metadata": {},
   "source": [
    "* La majeure partie des clients se concentrent entre **30 ans et 55 ans**.\n",
    "* La distrbution des âges ont varié entre **18 ans et 93 ans**."
   ]
  },
  {
   "cell_type": "markdown",
   "id": "2363fc2b",
   "metadata": {},
   "source": [
    ">>>### <span style=\"color:dark green\">3.5.2 Mesure de concentration des âges clients"
   ]
  },
  {
   "cell_type": "code",
   "execution_count": 84,
   "id": "2f693007",
   "metadata": {},
   "outputs": [
    {
     "data": {
      "image/png": "[encoded data removed]",
      "text/plain": [
       "<Figure size 432x288 with 1 Axes>"
      ]
     },
     "metadata": {
      "needs_background": "light"
     },
     "output_type": "display_data"
    }
   ],
   "source": [
    "#Courbe de Lorenz sur la variable des âges \n",
    "# # ==============================================================================\n",
    "ages = df_transactionsv1_customers['age'].values\n",
    "\n",
    "# Sélection du sous-échantillon de travail que l'on appelle ages\n",
    "#On place les observations dans une variable\n",
    "# # ==============================================================================\n",
    "lorenz_ages = np.cumsum(np.sort(ages)) / ages.sum()\n",
    "\n",
    "#Tri des individus dans l'ordre croissant des valeurs de la variable, \n",
    "#Calcul de la somme cumulée et normalisation en divisant par la somme des observations\n",
    "# # ==============================================================================\n",
    "plt.plot(np.linspace(0,1,len(lorenz_ages)), lorenz_ages, drawstyle='steps-post', color='rosybrown', label='Lorenz')\n",
    "plt.fill_between(np.linspace(0,1,len(lorenz_ages)) ,lorenz_ages , color='#539ecd')\n",
    "plt.plot([0, 1], [0, 1], 'r-', lw=2, label='Distribution égalitaire')\n",
    "plt.vlines(x=.61, ymin=0, ymax=.5, color='blue', linestyle='--', linewidth=1, label='Medial')\n",
    "plt.hlines(xmin=.61, xmax=0, y=.5, color='blue', linestyle='--', linewidth=1)\n",
    "\n",
    "plt.title('Courbe de Lorenz des âges clients')\n",
    "plt.xlabel(\"Distribution des âges (%)\")\n",
    "plt.ylabel(\"Cumul des âges clients (%)\")\n",
    "\n",
    "plt.legend(loc=\"best\")\n",
    "\n",
    "plt.show()\n"
   ]
  },
  {
   "cell_type": "markdown",
   "id": "d828b044",
   "metadata": {},
   "source": [
    "On constate qu'environ **61%** des âges clients représentent **50%** du montant total des âges. C'est une égalité quasi parfaite, et nous pouvons le confirmer avec l'indice de Gini."
   ]
  },
  {
   "cell_type": "code",
   "execution_count": 85,
   "id": "569087bd",
   "metadata": {},
   "outputs": [
    {
     "name": "stdout",
     "output_type": "stream",
     "text": [
      "L'indice de Gini est égal à 0.17\n"
     ]
    }
   ],
   "source": [
    "#Aire sous la courbe de Lorenz. La dernière valeur ne participe pas à l'aire, d'où \"[:-1]\"\n",
    "# # ==============================================================================\n",
    "aire_ss_courbe_age = lorenz_ages[:-1].sum()/len(lorenz_ages) \n",
    "\n",
    "#Aire entre la 1e bissectrice et la courbe de Lorenz\n",
    "# # ==============================================================================\n",
    "S = 0.5 - aire_ss_courbe_age\n",
    "gini_age = round(2*S, 2)\n",
    "\n",
    "print(\"L'indice de Gini est égal à {}\".format(gini_age))"
   ]
  },
  {
   "cell_type": "markdown",
   "id": "46b24881",
   "metadata": {},
   "source": [
    "Confirmation avec l'indice de Gini très proche de 0, les âges clients sont bien répartis, **quasiment égalitaire** dans notre contexte."
   ]
  },
  {
   "cell_type": "markdown",
   "id": "875069f6",
   "metadata": {},
   "source": [
    ">>>### <span style=\"color:dark green\">3.5.3 Variable 'sex' (df_transactionsv1_customers)"
   ]
  },
  {
   "cell_type": "code",
   "execution_count": 86,
   "id": "922828db",
   "metadata": {},
   "outputs": [
    {
     "data": {
      "text/plain": [
       "m    329133\n",
       "f    327282\n",
       "Name: sex, dtype: int64"
      ]
     },
     "execution_count": 86,
     "metadata": {},
     "output_type": "execute_result"
    }
   ],
   "source": [
    "#Méthode .value_counts() pour avoir une idée rapide de la répartition homme/femme chez les clients\n",
    "# # ==============================================================================\n",
    "df_transactionsv1_customers['sex'].value_counts()"
   ]
  },
  {
   "cell_type": "code",
   "execution_count": 87,
   "id": "8b891b1e",
   "metadata": {},
   "outputs": [
    {
     "data": {
      "text/html": [
       "<div>\n",
       "<style scoped>\n",
       "    .dataframe tbody tr th:only-of-type {\n",
       "        vertical-align: middle;\n",
       "    }\n",
       "\n",
       "    .dataframe tbody tr th {\n",
       "        vertical-align: top;\n",
       "    }\n",
       "\n",
       "    .dataframe thead th {\n",
       "        text-align: right;\n",
       "    }\n",
       "</style>\n",
       "<table border=\"1\" class=\"dataframe\">\n",
       "  <thead>\n",
       "    <tr style=\"text-align: right;\">\n",
       "      <th></th>\n",
       "      <th>client_id</th>\n",
       "      <th>sex</th>\n",
       "      <th>birth</th>\n",
       "      <th>id_prod</th>\n",
       "      <th>date</th>\n",
       "      <th>session_id</th>\n",
       "      <th>price</th>\n",
       "      <th>categ</th>\n",
       "    </tr>\n",
       "  </thead>\n",
       "  <tbody>\n",
       "    <tr>\n",
       "      <th>0</th>\n",
       "      <td>c_4410</td>\n",
       "      <td>f</td>\n",
       "      <td>1967</td>\n",
       "      <td>0_1316</td>\n",
       "      <td>2021-12-29 09:11:18.860592</td>\n",
       "      <td>s_141762</td>\n",
       "      <td>7.20</td>\n",
       "      <td>0.0</td>\n",
       "    </tr>\n",
       "    <tr>\n",
       "      <th>1</th>\n",
       "      <td>c_4410</td>\n",
       "      <td>f</td>\n",
       "      <td>1967</td>\n",
       "      <td>1_385</td>\n",
       "      <td>2021-03-22 01:40:22.782925</td>\n",
       "      <td>s_9707</td>\n",
       "      <td>25.99</td>\n",
       "      <td>1.0</td>\n",
       "    </tr>\n",
       "    <tr>\n",
       "      <th>2</th>\n",
       "      <td>c_4410</td>\n",
       "      <td>f</td>\n",
       "      <td>1967</td>\n",
       "      <td>1_190</td>\n",
       "      <td>2021-11-12 18:11:43.280574</td>\n",
       "      <td>s_118628</td>\n",
       "      <td>14.53</td>\n",
       "      <td>1.0</td>\n",
       "    </tr>\n",
       "    <tr>\n",
       "      <th>3</th>\n",
       "      <td>c_4410</td>\n",
       "      <td>f</td>\n",
       "      <td>1967</td>\n",
       "      <td>0_1455</td>\n",
       "      <td>2021-03-22 14:29:25.189266</td>\n",
       "      <td>s_9942</td>\n",
       "      <td>8.99</td>\n",
       "      <td>0.0</td>\n",
       "    </tr>\n",
       "    <tr>\n",
       "      <th>4</th>\n",
       "      <td>c_4410</td>\n",
       "      <td>f</td>\n",
       "      <td>1967</td>\n",
       "      <td>1_483</td>\n",
       "      <td>2022-03-13 21:35:55.949042</td>\n",
       "      <td>s_178686</td>\n",
       "      <td>15.99</td>\n",
       "      <td>1.0</td>\n",
       "    </tr>\n",
       "  </tbody>\n",
       "</table>\n",
       "</div>"
      ],
      "text/plain": [
       "  client_id sex  birth id_prod                       date session_id  price  \\\n",
       "0    c_4410   f   1967  0_1316 2021-12-29 09:11:18.860592   s_141762   7.20   \n",
       "1    c_4410   f   1967   1_385 2021-03-22 01:40:22.782925     s_9707  25.99   \n",
       "2    c_4410   f   1967   1_190 2021-11-12 18:11:43.280574   s_118628  14.53   \n",
       "3    c_4410   f   1967  0_1455 2021-03-22 14:29:25.189266     s_9942   8.99   \n",
       "4    c_4410   f   1967   1_483 2022-03-13 21:35:55.949042   s_178686  15.99   \n",
       "\n",
       "   categ  \n",
       "0    0.0  \n",
       "1    1.0  \n",
       "2    1.0  \n",
       "3    0.0  \n",
       "4    1.0  "
      ]
     },
     "execution_count": 87,
     "metadata": {},
     "output_type": "execute_result"
    }
   ],
   "source": [
    "#Préparation des donnée.\n",
    "#Jointure des données transactionnelles et clients (méthode .merge())\n",
    "#Préparation des données par jointure pour agréger les valeurs 'customers' avec celles 'transactionsv1_products'\n",
    "# # ==============================================================================\n",
    "df = pd.merge(df_customers, df_transactions_products, on='client_id')\n",
    "df.head()"
   ]
  },
  {
   "cell_type": "code",
   "execution_count": 88,
   "id": "c307c5af",
   "metadata": {},
   "outputs": [],
   "source": [
    "#Méthode .pivot_table() pour affiner davantage la répartition des hommes et des femmes selon la catégorie d'achat\n",
    "#Utilisation de df (étape suivante)obtenu par jointure avec df_customers et df_transactionsv1_products\n",
    "# # ==============================================================================\n",
    "fm = df.pivot_table(index='sex', columns='categ', values='price', aggfunc=sum).reset_index()"
   ]
  },
  {
   "cell_type": "code",
   "execution_count": 154,
   "id": "9768e25b",
   "metadata": {},
   "outputs": [
    {
     "data": {
      "text/plain": [
       "<Figure size 1008x504 with 0 Axes>"
      ]
     },
     "metadata": {},
     "output_type": "display_data"
    },
    {
     "data": {
      "image/png": "[encoded data removed]",
      "text/plain": [
       "<Figure size 1008x504 with 1 Axes>"
      ]
     },
     "metadata": {
      "needs_background": "light"
     },
     "output_type": "display_data"
    }
   ],
   "source": [
    "\n",
    "fm.plot(kind='bar', x='sex', figsize=(14, 7))\n",
    "\n",
    "plt.title('Répartition Hommes/Femmes selon les catégories')\n",
    "plt.xlabel('Sexe clients')\n",
    "plt.ylabel('Montant acheté')\n",
    "\n",
    "plt.show()"
   ]
  },
  {
   "cell_type": "markdown",
   "id": "5eaa84d0",
   "metadata": {},
   "source": [
    "L'échantillon étudié ressort avec **une égalité** quasi parfaite **entre les hommes et les femmes**, dans les trois catégories. ."
   ]
  },
  {
   "cell_type": "markdown",
   "id": "17c6e6c6",
   "metadata": {},
   "source": [
    ">> ## <span style=\"color:dark green\">3.6 Analyse comportementale des clients \n",
    "\n",
    "\n",
    ">>>### <span style=\"color:dark green\">3.6.1 Analyse des transactions par client"
   ]
  },
  {
   "cell_type": "code",
   "execution_count": 90,
   "id": "f7e166f1",
   "metadata": {},
   "outputs": [
    {
     "data": {
      "text/html": [
       "<div>\n",
       "<style scoped>\n",
       "    .dataframe tbody tr th:only-of-type {\n",
       "        vertical-align: middle;\n",
       "    }\n",
       "\n",
       "    .dataframe tbody tr th {\n",
       "        vertical-align: top;\n",
       "    }\n",
       "\n",
       "    .dataframe thead th {\n",
       "        text-align: right;\n",
       "    }\n",
       "</style>\n",
       "<table border=\"1\" class=\"dataframe\">\n",
       "  <thead>\n",
       "    <tr style=\"text-align: right;\">\n",
       "      <th></th>\n",
       "      <th>client_id</th>\n",
       "      <th>nb_transac</th>\n",
       "    </tr>\n",
       "  </thead>\n",
       "  <tbody>\n",
       "    <tr>\n",
       "      <th>0</th>\n",
       "      <td>c_1</td>\n",
       "      <td>39</td>\n",
       "    </tr>\n",
       "    <tr>\n",
       "      <th>1</th>\n",
       "      <td>c_10</td>\n",
       "      <td>58</td>\n",
       "    </tr>\n",
       "    <tr>\n",
       "      <th>2</th>\n",
       "      <td>c_100</td>\n",
       "      <td>8</td>\n",
       "    </tr>\n",
       "    <tr>\n",
       "      <th>3</th>\n",
       "      <td>c_1000</td>\n",
       "      <td>125</td>\n",
       "    </tr>\n",
       "    <tr>\n",
       "      <th>4</th>\n",
       "      <td>c_1001</td>\n",
       "      <td>102</td>\n",
       "    </tr>\n",
       "  </tbody>\n",
       "</table>\n",
       "</div>"
      ],
      "text/plain": [
       "  client_id  nb_transac\n",
       "0       c_1          39\n",
       "1      c_10          58\n",
       "2     c_100           8\n",
       "3    c_1000         125\n",
       "4    c_1001         102"
      ]
     },
     "execution_count": 90,
     "metadata": {},
     "output_type": "execute_result"
    }
   ],
   "source": [
    "#Agrégation des modalités de la variable 'client_id' (méthode .groupby())\n",
    "#L'objectif est de comprendre l'action de ré-achat (ou non)des clients\n",
    "# # ==============================================================================\n",
    "fid_client = df.groupby('client_id').count().reset_index()\n",
    "fid_client['nb_transac'] = fid_client.session_id\n",
    "fid_client = fid_client[['client_id', 'nb_transac']]\n",
    "fid_client.head()"
   ]
  },
  {
   "cell_type": "code",
   "execution_count": 91,
   "id": "e572e8ef",
   "metadata": {},
   "outputs": [
    {
     "data": {
      "text/plain": [
       "8592"
      ]
     },
     "execution_count": 91,
     "metadata": {},
     "output_type": "execute_result"
    }
   ],
   "source": [
    "#Estimation des clients ayant passés plus d'une commande dans l'année\n",
    "# # ==============================================================================\n",
    "fid_client[fid_client['nb_transac'] > 1].shape[0]"
   ]
  },
  {
   "cell_type": "code",
   "execution_count": 92,
   "id": "65a6268f",
   "metadata": {},
   "outputs": [
    {
     "data": {
      "text/plain": [
       "8"
      ]
     },
     "execution_count": 92,
     "metadata": {},
     "output_type": "execute_result"
    }
   ],
   "source": [
    "#Estimation des clients ayant passés une seule commande dans l'année\n",
    "# # ==============================================================================\n",
    "fid_client[fid_client['nb_transac'] == 1].shape[0]"
   ]
  },
  {
   "cell_type": "code",
   "execution_count": 93,
   "id": "2b3f335c",
   "metadata": {},
   "outputs": [
    {
     "data": {
      "text/plain": [
       "42"
      ]
     },
     "execution_count": 93,
     "metadata": {},
     "output_type": "execute_result"
    }
   ],
   "source": [
    "#Estimation des clients ayant passés 2 commandes dans l'année\n",
    "# # ==============================================================================\n",
    "fid_client[fid_client['nb_transac'] == 2].shape[0]"
   ]
  },
  {
   "cell_type": "markdown",
   "id": "b3e80060",
   "metadata": {},
   "source": [
    "Nous pouvons constater que la plupart de nos clients sont revenus acheter plus d'une fois, nous pouvons donc déterminer que le niveau de fidélité de nos clients est **excellent**."
   ]
  },
  {
   "cell_type": "markdown",
   "id": "5e2ec8d9",
   "metadata": {},
   "source": [
    ">>>### <span style=\"color:dark green\">3.4.1 Analyse des centres d'intérêt client : \"Catégorie d'affinité\""
   ]
  },
  {
   "cell_type": "code",
   "execution_count": 94,
   "id": "1e07347f",
   "metadata": {},
   "outputs": [
    {
     "data": {
      "text/html": [
       "<div>\n",
       "<style scoped>\n",
       "    .dataframe tbody tr th:only-of-type {\n",
       "        vertical-align: middle;\n",
       "    }\n",
       "\n",
       "    .dataframe tbody tr th {\n",
       "        vertical-align: top;\n",
       "    }\n",
       "\n",
       "    .dataframe thead th {\n",
       "        text-align: right;\n",
       "    }\n",
       "</style>\n",
       "<table border=\"1\" class=\"dataframe\">\n",
       "  <thead>\n",
       "    <tr style=\"text-align: right;\">\n",
       "      <th></th>\n",
       "      <th>categ</th>\n",
       "      <th>price</th>\n",
       "    </tr>\n",
       "  </thead>\n",
       "  <tbody>\n",
       "    <tr>\n",
       "      <th>0</th>\n",
       "      <td>0.0</td>\n",
       "      <td>415680</td>\n",
       "    </tr>\n",
       "    <tr>\n",
       "      <th>1</th>\n",
       "      <td>1.0</td>\n",
       "      <td>227169</td>\n",
       "    </tr>\n",
       "    <tr>\n",
       "      <th>2</th>\n",
       "      <td>2.0</td>\n",
       "      <td>36483</td>\n",
       "    </tr>\n",
       "  </tbody>\n",
       "</table>\n",
       "</div>"
      ],
      "text/plain": [
       "   categ   price\n",
       "0    0.0  415680\n",
       "1    1.0  227169\n",
       "2    2.0   36483"
      ]
     },
     "execution_count": 94,
     "metadata": {},
     "output_type": "execute_result"
    }
   ],
   "source": [
    "#Analyse des quantités de produits vendus selon les catéories\n",
    "# # ==============================================================================\n",
    "categ_prod = df.groupby('categ').price.count().reset_index()\n",
    "categ_prod"
   ]
  },
  {
   "cell_type": "code",
   "execution_count": 95,
   "id": "3b62f686",
   "metadata": {},
   "outputs": [
    {
     "data": {
      "text/html": [
       "<div>\n",
       "<style scoped>\n",
       "    .dataframe tbody tr th:only-of-type {\n",
       "        vertical-align: middle;\n",
       "    }\n",
       "\n",
       "    .dataframe tbody tr th {\n",
       "        vertical-align: top;\n",
       "    }\n",
       "\n",
       "    .dataframe thead th {\n",
       "        text-align: right;\n",
       "    }\n",
       "</style>\n",
       "<table border=\"1\" class=\"dataframe\">\n",
       "  <thead>\n",
       "    <tr style=\"text-align: right;\">\n",
       "      <th></th>\n",
       "      <th>categ</th>\n",
       "      <th>price</th>\n",
       "    </tr>\n",
       "  </thead>\n",
       "  <tbody>\n",
       "    <tr>\n",
       "      <th>0</th>\n",
       "      <td>0.0</td>\n",
       "      <td>4.423588e+06</td>\n",
       "    </tr>\n",
       "    <tr>\n",
       "      <th>1</th>\n",
       "      <td>1.0</td>\n",
       "      <td>4.653723e+06</td>\n",
       "    </tr>\n",
       "    <tr>\n",
       "      <th>2</th>\n",
       "      <td>2.0</td>\n",
       "      <td>2.780275e+06</td>\n",
       "    </tr>\n",
       "  </tbody>\n",
       "</table>\n",
       "</div>"
      ],
      "text/plain": [
       "   categ         price\n",
       "0    0.0  4.423588e+06\n",
       "1    1.0  4.653723e+06\n",
       "2    2.0  2.780275e+06"
      ]
     },
     "execution_count": 95,
     "metadata": {},
     "output_type": "execute_result"
    }
   ],
   "source": [
    "#Analyse du chiffre d'affaires selon les catégories\n",
    "# # ==============================================================================\n",
    "categ_sales = df.groupby('categ').price.sum().reset_index()\n",
    "categ_sales"
   ]
  },
  {
   "cell_type": "code",
   "execution_count": 164,
   "id": "369534fd",
   "metadata": {},
   "outputs": [
    {
     "data": {
      "image/png": "[encoded data removed]",
      "text/plain": [
       "<Figure size 1008x504 with 1 Axes>"
      ]
     },
     "metadata": {},
     "output_type": "display_data"
    }
   ],
   "source": [
    "# Chiffre d\\'affaires par catégorie\n",
    "data=df.pivot_table(index='categ', aggfunc={'price': np.sum}).plot(\n",
    "    kind='pie', y='price',\n",
    "    legend=True,\n",
    "    autopct='%1.1f%%',\n",
    "     figsize=(14, 7)\n",
    ")\n",
    "plt.title('Répartition du chiffres d\\'affaires par catégorie')\n",
    "plt.show()"
   ]
  },
  {
   "cell_type": "markdown",
   "id": "26546fb3",
   "metadata": {},
   "source": [
    "* La catégorie **2 ressort moins populaire** que les deux autres, moins de quantités vendues, moins de chiffre d'affaires.\n",
    "* En ce qui concerne les catégories 1 et 0, la **différence** entre leurs chiffres est **très faible**.\n",
    "* L'analyse va se poursuivre sur l'étude des liens éventuels entre les précédentes variables. L'enjeu est de comprendre les corrélations possibles ou non, de manière à pouvoir tirer des conclusions qui mènera l'entreprise à prendre des décisions stratégiques."
   ]
  },
  {
   "cell_type": "markdown",
   "id": "2edf94c6",
   "metadata": {},
   "source": [
    "> # <span style=\"color:dark green\">4 Comportement de nos clients en ligne (demandé par Julie)"
   ]
  },
  {
   "cell_type": "markdown",
   "id": "7dec6e47",
   "metadata": {},
   "source": [
    ">> ## <span style=\"color:dark green\">4.1 Préparation des données : Jointure des 3 dataframes\n",
    "\n",
    "Il est judicieux, pour plus compréhension, d'ajouter une colonne 'age'."
   ]
  },
  {
   "cell_type": "code",
   "execution_count": 96,
   "id": "8e0cfa63",
   "metadata": {},
   "outputs": [],
   "source": [
    "#Utilisation du dataframe df résultant de la jointure de df_customers, df_transactionsv1_products\n",
    "# # ==============================================================================\n",
    "df['age'] = 2022 - df.birth"
   ]
  },
  {
   "cell_type": "code",
   "execution_count": 97,
   "id": "02a446d8",
   "metadata": {},
   "outputs": [
    {
     "data": {
      "text/plain": [
       "client_id             object\n",
       "sex                   object\n",
       "birth                  int64\n",
       "id_prod               object\n",
       "date          datetime64[ns]\n",
       "session_id            object\n",
       "price                float64\n",
       "categ                float64\n",
       "age                    int64\n",
       "dtype: object"
      ]
     },
     "execution_count": 97,
     "metadata": {},
     "output_type": "execute_result"
    }
   ],
   "source": [
    "#Visualisation rapide des catégories de df\n",
    "# # ==============================================================================\n",
    "df.dtypes"
   ]
  },
  {
   "cell_type": "code",
   "execution_count": 98,
   "id": "e50d9121",
   "metadata": {},
   "outputs": [
    {
     "data": {
      "text/html": [
       "<div>\n",
       "<style scoped>\n",
       "    .dataframe tbody tr th:only-of-type {\n",
       "        vertical-align: middle;\n",
       "    }\n",
       "\n",
       "    .dataframe tbody tr th {\n",
       "        vertical-align: top;\n",
       "    }\n",
       "\n",
       "    .dataframe thead th {\n",
       "        text-align: right;\n",
       "    }\n",
       "</style>\n",
       "<table border=\"1\" class=\"dataframe\">\n",
       "  <thead>\n",
       "    <tr style=\"text-align: right;\">\n",
       "      <th></th>\n",
       "      <th>client_id</th>\n",
       "      <th>sex</th>\n",
       "      <th>birth</th>\n",
       "      <th>id_prod</th>\n",
       "      <th>date</th>\n",
       "      <th>session_id</th>\n",
       "      <th>price</th>\n",
       "      <th>categ</th>\n",
       "      <th>age</th>\n",
       "    </tr>\n",
       "  </thead>\n",
       "  <tbody>\n",
       "    <tr>\n",
       "      <th>0</th>\n",
       "      <td>c_4410</td>\n",
       "      <td>f</td>\n",
       "      <td>1967</td>\n",
       "      <td>0_1316</td>\n",
       "      <td>2021-12-29 09:11:18.860592</td>\n",
       "      <td>s_141762</td>\n",
       "      <td>7.20</td>\n",
       "      <td>0.0</td>\n",
       "      <td>55</td>\n",
       "    </tr>\n",
       "    <tr>\n",
       "      <th>1</th>\n",
       "      <td>c_4410</td>\n",
       "      <td>f</td>\n",
       "      <td>1967</td>\n",
       "      <td>1_385</td>\n",
       "      <td>2021-03-22 01:40:22.782925</td>\n",
       "      <td>s_9707</td>\n",
       "      <td>25.99</td>\n",
       "      <td>1.0</td>\n",
       "      <td>55</td>\n",
       "    </tr>\n",
       "    <tr>\n",
       "      <th>2</th>\n",
       "      <td>c_4410</td>\n",
       "      <td>f</td>\n",
       "      <td>1967</td>\n",
       "      <td>1_190</td>\n",
       "      <td>2021-11-12 18:11:43.280574</td>\n",
       "      <td>s_118628</td>\n",
       "      <td>14.53</td>\n",
       "      <td>1.0</td>\n",
       "      <td>55</td>\n",
       "    </tr>\n",
       "    <tr>\n",
       "      <th>3</th>\n",
       "      <td>c_4410</td>\n",
       "      <td>f</td>\n",
       "      <td>1967</td>\n",
       "      <td>0_1455</td>\n",
       "      <td>2021-03-22 14:29:25.189266</td>\n",
       "      <td>s_9942</td>\n",
       "      <td>8.99</td>\n",
       "      <td>0.0</td>\n",
       "      <td>55</td>\n",
       "    </tr>\n",
       "    <tr>\n",
       "      <th>4</th>\n",
       "      <td>c_4410</td>\n",
       "      <td>f</td>\n",
       "      <td>1967</td>\n",
       "      <td>1_483</td>\n",
       "      <td>2022-03-13 21:35:55.949042</td>\n",
       "      <td>s_178686</td>\n",
       "      <td>15.99</td>\n",
       "      <td>1.0</td>\n",
       "      <td>55</td>\n",
       "    </tr>\n",
       "  </tbody>\n",
       "</table>\n",
       "</div>"
      ],
      "text/plain": [
       "  client_id sex  birth id_prod                       date session_id  price  \\\n",
       "0    c_4410   f   1967  0_1316 2021-12-29 09:11:18.860592   s_141762   7.20   \n",
       "1    c_4410   f   1967   1_385 2021-03-22 01:40:22.782925     s_9707  25.99   \n",
       "2    c_4410   f   1967   1_190 2021-11-12 18:11:43.280574   s_118628  14.53   \n",
       "3    c_4410   f   1967  0_1455 2021-03-22 14:29:25.189266     s_9942   8.99   \n",
       "4    c_4410   f   1967   1_483 2022-03-13 21:35:55.949042   s_178686  15.99   \n",
       "\n",
       "   categ  age  \n",
       "0    0.0   55  \n",
       "1    1.0   55  \n",
       "2    1.0   55  \n",
       "3    0.0   55  \n",
       "4    1.0   55  "
      ]
     },
     "execution_count": 98,
     "metadata": {},
     "output_type": "execute_result"
    }
   ],
   "source": [
    "#Visualisation rapide de dataframe df\n",
    "# # ==============================================================================\n",
    "df.head()"
   ]
  },
  {
   "cell_type": "markdown",
   "id": "b16c58e3",
   "metadata": {},
   "source": [
    ">>> ## <span style=\"color:dark green\"> 4.1.2 Première approche des corrélations sur l'ensemble de nos variables numériques"
   ]
  },
  {
   "cell_type": "code",
   "execution_count": 99,
   "id": "04995271",
   "metadata": {},
   "outputs": [
    {
     "data": {
      "text/html": [
       "<div>\n",
       "<style scoped>\n",
       "    .dataframe tbody tr th:only-of-type {\n",
       "        vertical-align: middle;\n",
       "    }\n",
       "\n",
       "    .dataframe tbody tr th {\n",
       "        vertical-align: top;\n",
       "    }\n",
       "\n",
       "    .dataframe thead th {\n",
       "        text-align: right;\n",
       "    }\n",
       "</style>\n",
       "<table border=\"1\" class=\"dataframe\">\n",
       "  <thead>\n",
       "    <tr style=\"text-align: right;\">\n",
       "      <th></th>\n",
       "      <th>birth</th>\n",
       "      <th>price</th>\n",
       "      <th>categ</th>\n",
       "      <th>age</th>\n",
       "    </tr>\n",
       "  </thead>\n",
       "  <tbody>\n",
       "    <tr>\n",
       "      <th>birth</th>\n",
       "      <td>1.000000</td>\n",
       "      <td>0.209443</td>\n",
       "      <td>0.099222</td>\n",
       "      <td>-1.000000</td>\n",
       "    </tr>\n",
       "    <tr>\n",
       "      <th>price</th>\n",
       "      <td>0.209443</td>\n",
       "      <td>1.000000</td>\n",
       "      <td>0.671692</td>\n",
       "      <td>-0.209443</td>\n",
       "    </tr>\n",
       "    <tr>\n",
       "      <th>categ</th>\n",
       "      <td>0.099222</td>\n",
       "      <td>0.671692</td>\n",
       "      <td>1.000000</td>\n",
       "      <td>-0.099222</td>\n",
       "    </tr>\n",
       "    <tr>\n",
       "      <th>age</th>\n",
       "      <td>-1.000000</td>\n",
       "      <td>-0.209443</td>\n",
       "      <td>-0.099222</td>\n",
       "      <td>1.000000</td>\n",
       "    </tr>\n",
       "  </tbody>\n",
       "</table>\n",
       "</div>"
      ],
      "text/plain": [
       "          birth     price     categ       age\n",
       "birth  1.000000  0.209443  0.099222 -1.000000\n",
       "price  0.209443  1.000000  0.671692 -0.209443\n",
       "categ  0.099222  0.671692  1.000000 -0.099222\n",
       "age   -1.000000 -0.209443 -0.099222  1.000000"
      ]
     },
     "execution_count": 99,
     "metadata": {},
     "output_type": "execute_result"
    }
   ],
   "source": [
    "#Utilisation de la méthode .corr()\n",
    "# # ==============================================================================\n",
    "df.corr().head()"
   ]
  },
  {
   "cell_type": "code",
   "execution_count": 167,
   "id": "b5eda026",
   "metadata": {},
   "outputs": [
    {
     "data": {
      "image/png": "[encoded data removed]",
      "text/plain": [
       "<Figure size 1008x504 with 2 Axes>"
      ]
     },
     "metadata": {
      "needs_background": "light"
     },
     "output_type": "display_data"
    }
   ],
   "source": [
    "#Méthode .corr() avec par défaut la formule de la corrélation linéaire de Pearson\n",
    "# # ==============================================================================\n",
    "plt.figure(figsize=(14, 7))\n",
    "sns.heatmap(df.corr(), annot=True, fmt=\".1f\", cmap='Greens', )\n",
    "plt.title('Corrélation HeatMap de quelques variables')\n",
    "\n",
    "plt.show()"
   ]
  },
  {
   "cell_type": "markdown",
   "id": "cd619a1c",
   "metadata": {},
   "source": [
    "Immédiatement, nous pouvons remarquer certaines choses : Diagonalement, de haut en bas, de gauche à droite, vous pouvez voir une **corrélation parfaite 1** comparant une paire à elle-même. Vous verrez toujours ceci dans chaque tableau : plus un nombre est vert foncé, plus ce nombre est proche de 1, ce qui spécifie une corrélation positive (les prix produits / catégories se rapprochent l'une de l'autre).\n",
    "\n",
    "Plus un nombre est moins foncé, plus ce nombre est proche de -1. Ceci spécifie une **corrélation négative**\n",
    "\n"
   ]
  },
  {
   "cell_type": "markdown",
   "id": "919fcd76",
   "metadata": {},
   "source": [
    ">> ## <span style=\"color:dark green\"> 4.2 Analyse de la corrélation entre le sexe des clients et les catégories de produits achetés"
   ]
  },
  {
   "cell_type": "markdown",
   "id": "3b5e301c",
   "metadata": {},
   "source": [
    ">>> ### <span style=\"color:dark green\"> 4.2.1 Création du tableau de contingence \"Matrice des valeurs observées\"\n",
    "   * On pivote, on remplit les NaN, on calcule la ligne Total et la colonne Total.\n",
    "   * Ce tableau nous sera également utile pour la partie 2, car c'est cela qui est attendu en entrée par la méthode\n",
    "    de scipy.stats que l'on utilisera."
   ]
  },
  {
   "cell_type": "code",
   "execution_count": 165,
   "id": "68855f6b",
   "metadata": {},
   "outputs": [
    {
     "data": {
      "image/png": "[encoded data removed]",
      "text/plain": [
       "<Figure size 412x360 with 1 Axes>"
      ]
     },
     "metadata": {
      "needs_background": "light"
     },
     "output_type": "display_data"
    }
   ],
   "source": [
    "#Variables 'sex' et 'categ' du dataframe df\n",
    "# # ==============================================================================\n",
    "X = 'sex'\n",
    "Y = 'categ'\n",
    "\n",
    "#Calcul du tableau de contigence par la méthode .pivot_table()\n",
    "c = df[[X, Y]].pivot_table(index=X, columns=Y, aggfunc=len) ###, margins=True, margins_name='Total'\n",
    "tx = df[X].value_counts()\n",
    "ty = df[Y].value_counts()\n",
    "\n",
    "#Création d'une copie du dataframe original\n",
    "cont = c.copy()\n",
    "cont\n",
    "\n",
    "sns.displot(data=df, x='sex', hue='categ', multiple=\"stack\", palette = [\"#9b59b6\", \"#ff0000\",  \"#320ff0\"])\n",
    "plt.title('Ventes par sexe et catégorie')\n",
    "plt.show()"
   ]
  },
  {
   "cell_type": "markdown",
   "id": "fb081f87",
   "metadata": {},
   "source": [
    "Les ventes réalisées pour chaque genre sont assez similaires.\n",
    "Si l'on regarde plus en détail les **catégories 0 et 2**, on constate une préférence légèrement plus marquée pour les hommes que pour les femmes et si nous regardons la **catégorie 2**, on constate que les femmes sont légèrement plus nombreuses que les hommes à acheter ces articles."
   ]
  },
  {
   "cell_type": "markdown",
   "id": "682e033e",
   "metadata": {},
   "source": [
    ">>> ### <span style=\"color:dark green\"> 4.2.2 Création de la \"Matrice des valeurs attendues\""
   ]
  },
  {
   "cell_type": "code",
   "execution_count": 103,
   "id": "7ac131fc",
   "metadata": {},
   "outputs": [
    {
     "data": {
      "text/html": [
       "<div>\n",
       "<style scoped>\n",
       "    .dataframe tbody tr th:only-of-type {\n",
       "        vertical-align: middle;\n",
       "    }\n",
       "\n",
       "    .dataframe tbody tr th {\n",
       "        vertical-align: top;\n",
       "    }\n",
       "\n",
       "    .dataframe thead th {\n",
       "        text-align: right;\n",
       "    }\n",
       "</style>\n",
       "<table border=\"1\" class=\"dataframe\">\n",
       "  <thead>\n",
       "    <tr style=\"text-align: right;\">\n",
       "      <th></th>\n",
       "      <th>0.0</th>\n",
       "      <th>1.0</th>\n",
       "      <th>2.0</th>\n",
       "    </tr>\n",
       "  </thead>\n",
       "  <tbody>\n",
       "    <tr>\n",
       "      <th>m</th>\n",
       "      <td>208613.435551</td>\n",
       "      <td>114007.182306</td>\n",
       "      <td>18309.382143</td>\n",
       "    </tr>\n",
       "    <tr>\n",
       "      <th>f</th>\n",
       "      <td>207066.564449</td>\n",
       "      <td>113161.817694</td>\n",
       "      <td>18173.617857</td>\n",
       "    </tr>\n",
       "  </tbody>\n",
       "</table>\n",
       "</div>"
      ],
      "text/plain": [
       "             0.0            1.0           2.0\n",
       "m  208613.435551  114007.182306  18309.382143\n",
       "f  207066.564449  113161.817694  18173.617857"
      ]
     },
     "execution_count": 103,
     "metadata": {},
     "output_type": "execute_result"
    }
   ],
   "source": [
    "#L’occurrence attendue est simplement la fréquence que l’on devrait trouver dans une cellule \n",
    "#si l’hypothèse nulle était vraie.\n",
    "# # ==============================================================================\n",
    "tx_df= pd.DataFrame(tx)\n",
    "ty_df = pd.DataFrame(ty)\n",
    "\n",
    "tx_df.columns = [\"s\"]\n",
    "ty_df.columns = [\"s\"]\n",
    "\n",
    "#Valeurs totales observées\n",
    "n = len(df)\n",
    "\n",
    "#Produit matriciel. On utilise pd.T pour pivoter une des deux séries.\n",
    "indep = (tx_df.dot(ty_df.T) / n)\n",
    "indep"
   ]
  },
  {
   "cell_type": "markdown",
   "id": "6a981bf7",
   "metadata": {},
   "source": [
    ">>> ### <span style=\"color:dark green\"> 4.2.3 Calcul de la matrice \"écart au carré normalisé de la valeur attendue VS valeur observée\""
   ]
  },
  {
   "cell_type": "code",
   "execution_count": 104,
   "id": "54ea7750",
   "metadata": {},
   "outputs": [
    {
     "data": {
      "text/html": [
       "<div>\n",
       "<style scoped>\n",
       "    .dataframe tbody tr th:only-of-type {\n",
       "        vertical-align: middle;\n",
       "    }\n",
       "\n",
       "    .dataframe tbody tr th {\n",
       "        vertical-align: top;\n",
       "    }\n",
       "\n",
       "    .dataframe thead th {\n",
       "        text-align: right;\n",
       "    }\n",
       "</style>\n",
       "<table border=\"1\" class=\"dataframe\">\n",
       "  <thead>\n",
       "    <tr style=\"text-align: right;\">\n",
       "      <th>categ</th>\n",
       "      <th>0.0</th>\n",
       "      <th>1.0</th>\n",
       "      <th>2.0</th>\n",
       "    </tr>\n",
       "  </thead>\n",
       "  <tbody>\n",
       "    <tr>\n",
       "      <th>f</th>\n",
       "      <td>3.461068</td>\n",
       "      <td>26.668027</td>\n",
       "      <td>43.645694</td>\n",
       "    </tr>\n",
       "    <tr>\n",
       "      <th>m</th>\n",
       "      <td>3.435404</td>\n",
       "      <td>26.470283</td>\n",
       "      <td>43.322061</td>\n",
       "    </tr>\n",
       "  </tbody>\n",
       "</table>\n",
       "</div>"
      ],
      "text/plain": [
       "categ       0.0        1.0        2.0\n",
       "f      3.461068  26.668027  43.645694\n",
       "m      3.435404  26.470283  43.322061"
      ]
     },
     "execution_count": 104,
     "metadata": {},
     "output_type": "execute_result"
    }
   ],
   "source": [
    "#Calcul de la matrice\n",
    "# # ==============================================================================\n",
    "mesure = (c-indep)**2/indep\n",
    "mesure"
   ]
  },
  {
   "cell_type": "markdown",
   "id": "5288689a",
   "metadata": {},
   "source": [
    ">>> ### <span style=\"color:dark green\"> 4.2.4 Calcul du Chi2\n",
    "Tester l’hypothèse nulle consiste à comparer les occurrences observées (celles déjà dans le tableau) \n",
    " avec les occurrences attendues.\n"
   ]
  },
  {
   "cell_type": "code",
   "execution_count": 105,
   "id": "9b65a42b",
   "metadata": {},
   "outputs": [
    {
     "data": {
      "text/plain": [
       "147.00253568681114"
      ]
     },
     "execution_count": 105,
     "metadata": {},
     "output_type": "execute_result"
    }
   ],
   "source": [
    "#Somme des valeurs de la précédente matrice. \n",
    "# # ==============================================================================\n",
    "chi2 = mesure.sum().sum()\n",
    "chi2"
   ]
  },
  {
   "cell_type": "code",
   "execution_count": 168,
   "id": "6ed241f7",
   "metadata": {},
   "outputs": [
    {
     "data": {
      "image/png": "[encoded data removed]",
      "text/plain": [
       "<Figure size 1008x504 with 2 Axes>"
      ]
     },
     "metadata": {
      "needs_background": "light"
     },
     "output_type": "display_data"
    }
   ],
   "source": [
    "#HeatMap \n",
    "table = (mesure/chi2)\n",
    "plt.figure(figsize=(14, 7))\n",
    "sns.heatmap(table, annot=True, cmap=\"YlGnBu\", linewidths=0.1)\n",
    "\n",
    "plt.title('HeatMap Sexe clients vs Catégorie produits')\n",
    "plt.xlabel('Categ.')\n",
    "plt.ylabel('Sexe')\n",
    "\n",
    "plt.show()"
   ]
  },
  {
   "cell_type": "markdown",
   "id": "b295cb14",
   "metadata": {},
   "source": [
    "Le test de Chi2 est utilisé pour tester l'hypothèse nulle (H0) **d'absence de relation entre deux variables catégorielles**, ce test vérifie donc l'hypothèse d'indépendance de ces variables."
   ]
  },
  {
   "cell_type": "markdown",
   "id": "75ab8133",
   "metadata": {},
   "source": [
    "La valeur de Chi2 est une quantification de cet écart (entre les occurences attendues et celles observées). **Plus la valeur sera élevée, plus l'écart entre l'hypothèse nulle et la situation réelle sera grand**."
   ]
  },
  {
   "cell_type": "markdown",
   "id": "fbc1d113",
   "metadata": {},
   "source": [
    "Plus l’occurrence observée est près de l’occurrence attendue, **plus la fraction calculée pour chaque cellule est petite et moins l’écart avec H0 est grand**."
   ]
  },
  {
   "cell_type": "markdown",
   "id": "4d7036a1",
   "metadata": {},
   "source": [
    ">>> ### <span style=\"color:dark green\"> 4.2.5 Calcul du chi2 et de la p-value à partir de la matrice des valeurs observées avec scipy"
   ]
  },
  {
   "cell_type": "code",
   "execution_count": 107,
   "id": "f6df9ec2",
   "metadata": {},
   "outputs": [
    {
     "data": {
      "text/plain": [
       "(147.00253568681114, 2, 1.1989607410166063e-32)"
      ]
     },
     "execution_count": 107,
     "metadata": {},
     "output_type": "execute_result"
    }
   ],
   "source": [
    "#Degré de liberté = (nombre de lignes – 1) X (nombre de colonnes – 1)\n",
    "# # ==============================================================================\n",
    "chi2, pvalue, degrees, expected = st.chi2_contingency(cont)\n",
    "chi2, degrees, pvalue"
   ]
  },
  {
   "cell_type": "markdown",
   "id": "037bd4f3",
   "metadata": {},
   "source": [
    "L'indice élevé du Chi2 démontre une importance significative entre les occurences théoriques et celles du tableau de contigence. De plus, la comparaison de **p-value (1e-26%)** avec notre seuil de significativité (traditionnellement 5%) expose une **valeur inférieure au seuil**. L'hypothèse nulle est rejetée en faveur de l’hypothèse alternative, il **existe donc un lien entre le sexe des clients et les catégories produits**."
   ]
  },
  {
   "cell_type": "markdown",
   "id": "b0a55011",
   "metadata": {},
   "source": [
    ">> ## <span style=\"color:dark green\"> 4.3 Analyse de la corrélation entre l'âge clients et le montant total des achats\n",
    "    >>> ### <span style=\"color:dark green\"> 4.3.1 Agrégation pour sommer les ventes 'price' (produits achetés) en fonction de l'âge des clients\n",
    "    >>>> ### <span style=\"color:dark green\"> 4.3.1.1 Création d'une variable 'age_price'"
   ]
  },
  {
   "cell_type": "code",
   "execution_count": 108,
   "id": "b8846845",
   "metadata": {},
   "outputs": [
    {
     "data": {
      "text/html": [
       "<div>\n",
       "<style scoped>\n",
       "    .dataframe tbody tr th:only-of-type {\n",
       "        vertical-align: middle;\n",
       "    }\n",
       "\n",
       "    .dataframe tbody tr th {\n",
       "        vertical-align: top;\n",
       "    }\n",
       "\n",
       "    .dataframe thead th {\n",
       "        text-align: right;\n",
       "    }\n",
       "</style>\n",
       "<table border=\"1\" class=\"dataframe\">\n",
       "  <thead>\n",
       "    <tr style=\"text-align: right;\">\n",
       "      <th></th>\n",
       "      <th>age</th>\n",
       "      <th>price</th>\n",
       "    </tr>\n",
       "  </thead>\n",
       "  <tbody>\n",
       "    <tr>\n",
       "      <th>75</th>\n",
       "      <td>93</td>\n",
       "      <td>3.221850</td>\n",
       "    </tr>\n",
       "    <tr>\n",
       "      <th>74</th>\n",
       "      <td>92</td>\n",
       "      <td>4.013870</td>\n",
       "    </tr>\n",
       "    <tr>\n",
       "      <th>73</th>\n",
       "      <td>91</td>\n",
       "      <td>2.815450</td>\n",
       "    </tr>\n",
       "    <tr>\n",
       "      <th>72</th>\n",
       "      <td>90</td>\n",
       "      <td>5.043190</td>\n",
       "    </tr>\n",
       "    <tr>\n",
       "      <th>71</th>\n",
       "      <td>89</td>\n",
       "      <td>5.271805</td>\n",
       "    </tr>\n",
       "  </tbody>\n",
       "</table>\n",
       "</div>"
      ],
      "text/plain": [
       "    age     price\n",
       "75   93  3.221850\n",
       "74   92  4.013870\n",
       "73   91  2.815450\n",
       "72   90  5.043190\n",
       "71   89  5.271805"
      ]
     },
     "execution_count": 108,
     "metadata": {},
     "output_type": "execute_result"
    }
   ],
   "source": [
    "#variable 'age_price'\n",
    "# # ==============================================================================\n",
    "age_price = df.groupby('age').sum().reset_index()\n",
    "age_price = age_price[['age', 'price']].sort_values(by='age', ascending=False) \n",
    "#Valeurs exprimées en K€\n",
    "age_price['price'] = age_price['price'] / 1000 \n",
    "\n",
    "#Apperçu des données âges / ventes\n",
    "age_price.head() "
   ]
  },
  {
   "cell_type": "code",
   "execution_count": 109,
   "id": "0c89994a",
   "metadata": {},
   "outputs": [
    {
     "data": {
      "text/html": [
       "<div>\n",
       "<style scoped>\n",
       "    .dataframe tbody tr th:only-of-type {\n",
       "        vertical-align: middle;\n",
       "    }\n",
       "\n",
       "    .dataframe tbody tr th {\n",
       "        vertical-align: top;\n",
       "    }\n",
       "\n",
       "    .dataframe thead th {\n",
       "        text-align: right;\n",
       "    }\n",
       "</style>\n",
       "<table border=\"1\" class=\"dataframe\">\n",
       "  <thead>\n",
       "    <tr style=\"text-align: right;\">\n",
       "      <th></th>\n",
       "      <th>age</th>\n",
       "      <th>price</th>\n",
       "    </tr>\n",
       "  </thead>\n",
       "  <tbody>\n",
       "    <tr>\n",
       "      <th>4</th>\n",
       "      <td>22</td>\n",
       "      <td>165.042890</td>\n",
       "    </tr>\n",
       "    <tr>\n",
       "      <th>3</th>\n",
       "      <td>21</td>\n",
       "      <td>178.497700</td>\n",
       "    </tr>\n",
       "    <tr>\n",
       "      <th>2</th>\n",
       "      <td>20</td>\n",
       "      <td>184.229714</td>\n",
       "    </tr>\n",
       "    <tr>\n",
       "      <th>1</th>\n",
       "      <td>19</td>\n",
       "      <td>178.195780</td>\n",
       "    </tr>\n",
       "    <tr>\n",
       "      <th>0</th>\n",
       "      <td>18</td>\n",
       "      <td>609.013690</td>\n",
       "    </tr>\n",
       "  </tbody>\n",
       "</table>\n",
       "</div>"
      ],
      "text/plain": [
       "   age       price\n",
       "4   22  165.042890\n",
       "3   21  178.497700\n",
       "2   20  184.229714\n",
       "1   19  178.195780\n",
       "0   18  609.013690"
      ]
     },
     "execution_count": 109,
     "metadata": {},
     "output_type": "execute_result"
    }
   ],
   "source": [
    "age_price.tail()"
   ]
  },
  {
   "cell_type": "markdown",
   "id": "c040dd43",
   "metadata": {},
   "source": []
  },
  {
   "cell_type": "code",
   "execution_count": 110,
   "id": "4d19f5a7",
   "metadata": {
    "scrolled": true
   },
   "outputs": [
    {
     "data": {
      "image/png": "[encoded data removed]",
      "text/plain": [
       "<Figure size 432x288 with 1 Axes>"
      ]
     },
     "metadata": {
      "needs_background": "light"
     },
     "output_type": "display_data"
    }
   ],
   "source": [
    "#Visualisation avec un scatterplot (âge clients vs montant total des achats)\n",
    "# # ==============================================================================\n",
    "plt.plot(age_price[age_price.price < 200].age, age_price[age_price.price < 200].price, 'o', color='green')\n",
    "\n",
    "plt.xlabel('age')\n",
    "plt.ylabel('Montant achat (K€)')\n",
    "plt.title('Montant Total des achats selon l\\'âge du client')\n",
    "\n",
    "plt.show()"
   ]
  },
  {
   "cell_type": "markdown",
   "id": "f9180f17",
   "metadata": {},
   "source": []
  },
  {
   "cell_type": "markdown",
   "id": "a649e8ae",
   "metadata": {},
   "source": [
    "   >>>> ### <span style=\"color:dark green\"> 4.3.2 Achats selon l'âge du client"
   ]
  },
  {
   "cell_type": "markdown",
   "id": "fcf06fd3",
   "metadata": {},
   "source": [
    "  >>>> ### <span style=\"color:dark green\"> 4.3.3 Coefficient de corrélation linéaire de Pearson"
   ]
  },
  {
   "cell_type": "code",
   "execution_count": 111,
   "id": "79e26141",
   "metadata": {},
   "outputs": [
    {
     "data": {
      "text/plain": [
       "-0.7788469792269999"
      ]
     },
     "execution_count": 111,
     "metadata": {},
     "output_type": "execute_result"
    }
   ],
   "source": [
    "#Coefficient de corrélation \n",
    "# # ==============================================================================\n",
    "coef_age_price = st.pearsonr(age_price.age, age_price.price)[0]\n",
    "coef_age_price"
   ]
  },
  {
   "cell_type": "markdown",
   "id": "6b662c60",
   "metadata": {},
   "source": [
    "* Le coefficient est négatif par conséquent, on peut émettre l'hypothèse que **plus les consommateurs sont agés plus le montant total de leur achat est faible**. Or le coefficient est plus proche de -1 que de zéro. \n",
    "* Par conséquent, **on peut affirmer que plus les consommateurs sont agés plus le montant total de leur achat est faible**.(forte correlation)\n",
    "* Le pic d'achat se situe entre **18 et 38 ans**. \n",
    "* On observe un **pic anormal** dans la tranche d'âge de 18 ans."
   ]
  },
  {
   "cell_type": "markdown",
   "id": "9a075b6f",
   "metadata": {},
   "source": [
    ">> ## <span style=\"color:dark green\"> 4.4 Analyse de la corrélation entre l'âge clients et la fréquence d'achat\n",
    "\n",
    "\n",
    "Ici la fréquence d'achat correspond au nombre d'achats par mois"
   ]
  },
  {
   "cell_type": "code",
   "execution_count": 112,
   "id": "6635998e",
   "metadata": {},
   "outputs": [
    {
     "data": {
      "text/html": [
       "<div>\n",
       "<style scoped>\n",
       "    .dataframe tbody tr th:only-of-type {\n",
       "        vertical-align: middle;\n",
       "    }\n",
       "\n",
       "    .dataframe tbody tr th {\n",
       "        vertical-align: top;\n",
       "    }\n",
       "\n",
       "    .dataframe thead th {\n",
       "        text-align: right;\n",
       "    }\n",
       "</style>\n",
       "<table border=\"1\" class=\"dataframe\">\n",
       "  <thead>\n",
       "    <tr style=\"text-align: right;\">\n",
       "      <th></th>\n",
       "      <th>client_id</th>\n",
       "      <th>sex</th>\n",
       "      <th>birth</th>\n",
       "      <th>id_prod</th>\n",
       "      <th>date</th>\n",
       "      <th>session_id</th>\n",
       "      <th>price</th>\n",
       "      <th>categ</th>\n",
       "      <th>age</th>\n",
       "    </tr>\n",
       "  </thead>\n",
       "  <tbody>\n",
       "    <tr>\n",
       "      <th>0</th>\n",
       "      <td>c_4410</td>\n",
       "      <td>f</td>\n",
       "      <td>1967</td>\n",
       "      <td>0_1316</td>\n",
       "      <td>2021-12-29 09:11:18.860592</td>\n",
       "      <td>s_141762</td>\n",
       "      <td>7.20</td>\n",
       "      <td>0.0</td>\n",
       "      <td>55</td>\n",
       "    </tr>\n",
       "    <tr>\n",
       "      <th>1</th>\n",
       "      <td>c_4410</td>\n",
       "      <td>f</td>\n",
       "      <td>1967</td>\n",
       "      <td>1_385</td>\n",
       "      <td>2021-03-22 01:40:22.782925</td>\n",
       "      <td>s_9707</td>\n",
       "      <td>25.99</td>\n",
       "      <td>1.0</td>\n",
       "      <td>55</td>\n",
       "    </tr>\n",
       "    <tr>\n",
       "      <th>2</th>\n",
       "      <td>c_4410</td>\n",
       "      <td>f</td>\n",
       "      <td>1967</td>\n",
       "      <td>1_190</td>\n",
       "      <td>2021-11-12 18:11:43.280574</td>\n",
       "      <td>s_118628</td>\n",
       "      <td>14.53</td>\n",
       "      <td>1.0</td>\n",
       "      <td>55</td>\n",
       "    </tr>\n",
       "    <tr>\n",
       "      <th>3</th>\n",
       "      <td>c_4410</td>\n",
       "      <td>f</td>\n",
       "      <td>1967</td>\n",
       "      <td>0_1455</td>\n",
       "      <td>2021-03-22 14:29:25.189266</td>\n",
       "      <td>s_9942</td>\n",
       "      <td>8.99</td>\n",
       "      <td>0.0</td>\n",
       "      <td>55</td>\n",
       "    </tr>\n",
       "    <tr>\n",
       "      <th>4</th>\n",
       "      <td>c_4410</td>\n",
       "      <td>f</td>\n",
       "      <td>1967</td>\n",
       "      <td>1_483</td>\n",
       "      <td>2022-03-13 21:35:55.949042</td>\n",
       "      <td>s_178686</td>\n",
       "      <td>15.99</td>\n",
       "      <td>1.0</td>\n",
       "      <td>55</td>\n",
       "    </tr>\n",
       "  </tbody>\n",
       "</table>\n",
       "</div>"
      ],
      "text/plain": [
       "  client_id sex  birth id_prod                       date session_id  price  \\\n",
       "0    c_4410   f   1967  0_1316 2021-12-29 09:11:18.860592   s_141762   7.20   \n",
       "1    c_4410   f   1967   1_385 2021-03-22 01:40:22.782925     s_9707  25.99   \n",
       "2    c_4410   f   1967   1_190 2021-11-12 18:11:43.280574   s_118628  14.53   \n",
       "3    c_4410   f   1967  0_1455 2021-03-22 14:29:25.189266     s_9942   8.99   \n",
       "4    c_4410   f   1967   1_483 2022-03-13 21:35:55.949042   s_178686  15.99   \n",
       "\n",
       "   categ  age  \n",
       "0    0.0   55  \n",
       "1    1.0   55  \n",
       "2    1.0   55  \n",
       "3    0.0   55  \n",
       "4    1.0   55  "
      ]
     },
     "execution_count": 112,
     "metadata": {},
     "output_type": "execute_result"
    }
   ],
   "source": [
    "#Analyse faite à partir du dataframe global df\n",
    "# # ==============================================================================\n",
    "df.head()"
   ]
  },
  {
   "cell_type": "markdown",
   "id": "5c805936",
   "metadata": {},
   "source": [
    ">>> ### <span style=\"color:dark green\"> 4.4.1 Agrégation des données selon l'âge client"
   ]
  },
  {
   "cell_type": "markdown",
   "id": "efe4b522",
   "metadata": {},
   "source": [
    "Le nombre d'achat mensuel est obtenu à partir du comptage des sessions clients par mois"
   ]
  },
  {
   "cell_type": "code",
   "execution_count": 113,
   "id": "892b706b",
   "metadata": {},
   "outputs": [
    {
     "data": {
      "text/html": [
       "<div>\n",
       "<style scoped>\n",
       "    .dataframe tbody tr th:only-of-type {\n",
       "        vertical-align: middle;\n",
       "    }\n",
       "\n",
       "    .dataframe tbody tr th {\n",
       "        vertical-align: top;\n",
       "    }\n",
       "\n",
       "    .dataframe thead th {\n",
       "        text-align: right;\n",
       "    }\n",
       "</style>\n",
       "<table border=\"1\" class=\"dataframe\">\n",
       "  <thead>\n",
       "    <tr style=\"text-align: right;\">\n",
       "      <th></th>\n",
       "      <th>age</th>\n",
       "      <th>session_id</th>\n",
       "      <th>f</th>\n",
       "    </tr>\n",
       "  </thead>\n",
       "  <tbody>\n",
       "    <tr>\n",
       "      <th>75</th>\n",
       "      <td>93</td>\n",
       "      <td>201</td>\n",
       "      <td>0.000296</td>\n",
       "    </tr>\n",
       "    <tr>\n",
       "      <th>74</th>\n",
       "      <td>92</td>\n",
       "      <td>226</td>\n",
       "      <td>0.000333</td>\n",
       "    </tr>\n",
       "    <tr>\n",
       "      <th>73</th>\n",
       "      <td>91</td>\n",
       "      <td>170</td>\n",
       "      <td>0.000250</td>\n",
       "    </tr>\n",
       "    <tr>\n",
       "      <th>72</th>\n",
       "      <td>90</td>\n",
       "      <td>311</td>\n",
       "      <td>0.000458</td>\n",
       "    </tr>\n",
       "    <tr>\n",
       "      <th>71</th>\n",
       "      <td>89</td>\n",
       "      <td>327</td>\n",
       "      <td>0.000481</td>\n",
       "    </tr>\n",
       "    <tr>\n",
       "      <th>70</th>\n",
       "      <td>88</td>\n",
       "      <td>555</td>\n",
       "      <td>0.000817</td>\n",
       "    </tr>\n",
       "    <tr>\n",
       "      <th>69</th>\n",
       "      <td>87</td>\n",
       "      <td>272</td>\n",
       "      <td>0.000400</td>\n",
       "    </tr>\n",
       "    <tr>\n",
       "      <th>68</th>\n",
       "      <td>86</td>\n",
       "      <td>757</td>\n",
       "      <td>0.001114</td>\n",
       "    </tr>\n",
       "    <tr>\n",
       "      <th>67</th>\n",
       "      <td>85</td>\n",
       "      <td>942</td>\n",
       "      <td>0.001387</td>\n",
       "    </tr>\n",
       "    <tr>\n",
       "      <th>66</th>\n",
       "      <td>84</td>\n",
       "      <td>834</td>\n",
       "      <td>0.001228</td>\n",
       "    </tr>\n",
       "  </tbody>\n",
       "</table>\n",
       "</div>"
      ],
      "text/plain": [
       "    age  session_id         f\n",
       "75   93         201  0.000296\n",
       "74   92         226  0.000333\n",
       "73   91         170  0.000250\n",
       "72   90         311  0.000458\n",
       "71   89         327  0.000481\n",
       "70   88         555  0.000817\n",
       "69   87         272  0.000400\n",
       "68   86         757  0.001114\n",
       "67   85         942  0.001387\n",
       "66   84         834  0.001228"
      ]
     },
     "execution_count": 113,
     "metadata": {},
     "output_type": "execute_result"
    }
   ],
   "source": [
    "#Hypothèse 1 id_session = 1 transation\n",
    "# # ==============================================================================\n",
    "customers_freq = df.groupby('age').count().reset_index()\n",
    "customers_freq = customers_freq[['age', 'session_id']]\n",
    "\n",
    "#Création d'une variable fréquence 'f'\n",
    "# # ==============================================================================\n",
    "customers_freq['f'] = customers_freq['session_id'] / sum(customers_freq['session_id'])\n",
    "customers_freq.sort_values(by='age', ascending=False).head(10)"
   ]
  },
  {
   "cell_type": "code",
   "execution_count": 114,
   "id": "e4a6b1fa",
   "metadata": {},
   "outputs": [
    {
     "data": {
      "image/png": "[encoded data removed]",
      "text/plain": [
       "<Figure size 432x288 with 1 Axes>"
      ]
     },
     "metadata": {
      "needs_background": "light"
     },
     "output_type": "display_data"
    }
   ],
   "source": [
    "#Visualisation avec un scatterplot (âge client vs fréquence d'achat mensuelle)\n",
    "#customers_freq.plot.scatter(x = 'age', y = 'f', marker = 'o', color='purple')\n",
    "# # ==============================================================================\n",
    "plt.plot(customers_freq[customers_freq.f < .05].age, customers_freq[customers_freq.f < .05].f, 'o')\n",
    "\n",
    "plt.xlabel('age')\n",
    "plt.ylabel('Fréquence achat')\n",
    "plt.title('Fréquence des achats selon l\\'age du client')\n",
    "\n",
    "plt.show()"
   ]
  },
  {
   "cell_type": "markdown",
   "id": "d7dc5164",
   "metadata": {},
   "source": [
    " >>>> ### <span style=\"color:dark green\"> 4.4.2 Coefficient de corrélation linéaire de Pearson"
   ]
  },
  {
   "cell_type": "code",
   "execution_count": 115,
   "id": "bdbb8470",
   "metadata": {},
   "outputs": [
    {
     "data": {
      "text/plain": [
       "-0.5337045762407476"
      ]
     },
     "execution_count": 115,
     "metadata": {},
     "output_type": "execute_result"
    }
   ],
   "source": [
    "#Coefficient de corrélation linéaire de Pearson\n",
    "# # ==============================================================================\n",
    "coef_customers_freq = st.pearsonr(customers_freq.age, customers_freq.f)[0]\n",
    "coef_customers_freq"
   ]
  },
  {
   "cell_type": "markdown",
   "id": "e0d43fce",
   "metadata": {},
   "source": [
    "* Corrélation confirmée par le coefficient de Pearson, il **existe bien un lien entre l'âge des clients et leurs fréquences d'achat**. \n",
    "* La tranche d'âge des **30 et 50 ans** est celle qui achète le plus fréquemment.\n",
    "* On constate à nouveau un pic chez les jeunes de **18 ans**, cette fois dans la fréquence d'achat selon l'âge."
   ]
  },
  {
   "cell_type": "markdown",
   "id": "33ceff6c",
   "metadata": {},
   "source": [
    ">> ## <span style=\"color:dark green\"> 4.5 Analyse de la corrélation entre l'âge clients et la taille du panier moyen"
   ]
  },
  {
   "cell_type": "markdown",
   "id": "9067ade8",
   "metadata": {},
   "source": [
    "Ici la taille du panier moyen sera exprimée en nombre d'articles"
   ]
  },
  {
   "cell_type": "code",
   "execution_count": 116,
   "id": "f677f285",
   "metadata": {},
   "outputs": [
    {
     "data": {
      "text/html": [
       "<div>\n",
       "<style scoped>\n",
       "    .dataframe tbody tr th:only-of-type {\n",
       "        vertical-align: middle;\n",
       "    }\n",
       "\n",
       "    .dataframe tbody tr th {\n",
       "        vertical-align: top;\n",
       "    }\n",
       "\n",
       "    .dataframe thead th {\n",
       "        text-align: right;\n",
       "    }\n",
       "</style>\n",
       "<table border=\"1\" class=\"dataframe\">\n",
       "  <thead>\n",
       "    <tr style=\"text-align: right;\">\n",
       "      <th></th>\n",
       "      <th>client_id</th>\n",
       "      <th>sex</th>\n",
       "      <th>birth</th>\n",
       "      <th>id_prod</th>\n",
       "      <th>date</th>\n",
       "      <th>session_id</th>\n",
       "      <th>price</th>\n",
       "      <th>categ</th>\n",
       "      <th>age</th>\n",
       "    </tr>\n",
       "  </thead>\n",
       "  <tbody>\n",
       "    <tr>\n",
       "      <th>0</th>\n",
       "      <td>c_4410</td>\n",
       "      <td>f</td>\n",
       "      <td>1967</td>\n",
       "      <td>0_1316</td>\n",
       "      <td>2021-12-29 09:11:18.860592</td>\n",
       "      <td>s_141762</td>\n",
       "      <td>7.20</td>\n",
       "      <td>0.0</td>\n",
       "      <td>55</td>\n",
       "    </tr>\n",
       "    <tr>\n",
       "      <th>1</th>\n",
       "      <td>c_4410</td>\n",
       "      <td>f</td>\n",
       "      <td>1967</td>\n",
       "      <td>1_385</td>\n",
       "      <td>2021-03-22 01:40:22.782925</td>\n",
       "      <td>s_9707</td>\n",
       "      <td>25.99</td>\n",
       "      <td>1.0</td>\n",
       "      <td>55</td>\n",
       "    </tr>\n",
       "    <tr>\n",
       "      <th>2</th>\n",
       "      <td>c_4410</td>\n",
       "      <td>f</td>\n",
       "      <td>1967</td>\n",
       "      <td>1_190</td>\n",
       "      <td>2021-11-12 18:11:43.280574</td>\n",
       "      <td>s_118628</td>\n",
       "      <td>14.53</td>\n",
       "      <td>1.0</td>\n",
       "      <td>55</td>\n",
       "    </tr>\n",
       "    <tr>\n",
       "      <th>3</th>\n",
       "      <td>c_4410</td>\n",
       "      <td>f</td>\n",
       "      <td>1967</td>\n",
       "      <td>0_1455</td>\n",
       "      <td>2021-03-22 14:29:25.189266</td>\n",
       "      <td>s_9942</td>\n",
       "      <td>8.99</td>\n",
       "      <td>0.0</td>\n",
       "      <td>55</td>\n",
       "    </tr>\n",
       "    <tr>\n",
       "      <th>4</th>\n",
       "      <td>c_4410</td>\n",
       "      <td>f</td>\n",
       "      <td>1967</td>\n",
       "      <td>1_483</td>\n",
       "      <td>2022-03-13 21:35:55.949042</td>\n",
       "      <td>s_178686</td>\n",
       "      <td>15.99</td>\n",
       "      <td>1.0</td>\n",
       "      <td>55</td>\n",
       "    </tr>\n",
       "  </tbody>\n",
       "</table>\n",
       "</div>"
      ],
      "text/plain": [
       "  client_id sex  birth id_prod                       date session_id  price  \\\n",
       "0    c_4410   f   1967  0_1316 2021-12-29 09:11:18.860592   s_141762   7.20   \n",
       "1    c_4410   f   1967   1_385 2021-03-22 01:40:22.782925     s_9707  25.99   \n",
       "2    c_4410   f   1967   1_190 2021-11-12 18:11:43.280574   s_118628  14.53   \n",
       "3    c_4410   f   1967  0_1455 2021-03-22 14:29:25.189266     s_9942   8.99   \n",
       "4    c_4410   f   1967   1_483 2022-03-13 21:35:55.949042   s_178686  15.99   \n",
       "\n",
       "   categ  age  \n",
       "0    0.0   55  \n",
       "1    1.0   55  \n",
       "2    1.0   55  \n",
       "3    0.0   55  \n",
       "4    1.0   55  "
      ]
     },
     "execution_count": 116,
     "metadata": {},
     "output_type": "execute_result"
    }
   ],
   "source": [
    "#Analyse faite à partir du dataframe global df\n",
    "# # ==============================================================================\n",
    "df.head()"
   ]
  },
  {
   "cell_type": "markdown",
   "id": "aee1cf9d",
   "metadata": {},
   "source": [
    ">>> ### <span style=\"color:dark green\"> 4.5.1 Les agrégations "
   ]
  },
  {
   "cell_type": "code",
   "execution_count": 117,
   "id": "5adfd345",
   "metadata": {},
   "outputs": [
    {
     "data": {
      "text/html": [
       "<div>\n",
       "<style scoped>\n",
       "    .dataframe tbody tr th:only-of-type {\n",
       "        vertical-align: middle;\n",
       "    }\n",
       "\n",
       "    .dataframe tbody tr th {\n",
       "        vertical-align: top;\n",
       "    }\n",
       "\n",
       "    .dataframe thead th {\n",
       "        text-align: right;\n",
       "    }\n",
       "</style>\n",
       "<table border=\"1\" class=\"dataframe\">\n",
       "  <thead>\n",
       "    <tr style=\"text-align: right;\">\n",
       "      <th></th>\n",
       "      <th>age</th>\n",
       "      <th>id_prod</th>\n",
       "    </tr>\n",
       "  </thead>\n",
       "  <tbody>\n",
       "    <tr>\n",
       "      <th>71</th>\n",
       "      <td>89</td>\n",
       "      <td>1.397436</td>\n",
       "    </tr>\n",
       "    <tr>\n",
       "      <th>72</th>\n",
       "      <td>90</td>\n",
       "      <td>1.509709</td>\n",
       "    </tr>\n",
       "    <tr>\n",
       "      <th>73</th>\n",
       "      <td>91</td>\n",
       "      <td>1.770833</td>\n",
       "    </tr>\n",
       "    <tr>\n",
       "      <th>74</th>\n",
       "      <td>92</td>\n",
       "      <td>1.547945</td>\n",
       "    </tr>\n",
       "    <tr>\n",
       "      <th>75</th>\n",
       "      <td>93</td>\n",
       "      <td>1.500000</td>\n",
       "    </tr>\n",
       "  </tbody>\n",
       "</table>\n",
       "</div>"
      ],
      "text/plain": [
       "    age   id_prod\n",
       "71   89  1.397436\n",
       "72   90  1.509709\n",
       "73   91  1.770833\n",
       "74   92  1.547945\n",
       "75   93  1.500000"
      ]
     },
     "execution_count": 117,
     "metadata": {},
     "output_type": "execute_result"
    }
   ],
   "source": [
    "#Première agrégation selon l'age client et les sessions en comptage de modalités\n",
    "# # ==============================================================================\n",
    "customers_shop = df.groupby(['age', 'session_id']).count().reset_index()\n",
    "\n",
    "#Seconde agrégation selon l'age client en moyenne de produits achetés \n",
    "customers_shop = customers_shop.groupby('age').mean().reset_index()\n",
    "customers_shop = customers_shop[['age', 'id_prod']]\n",
    "customers_shop.tail()"
   ]
  },
  {
   "cell_type": "code",
   "execution_count": 118,
   "id": "c900f9ed",
   "metadata": {},
   "outputs": [
    {
     "data": {
      "image/png": "[encoded data removed]",
      "text/plain": [
       "<Figure size 432x288 with 1 Axes>"
      ]
     },
     "metadata": {
      "needs_background": "light"
     },
     "output_type": "display_data"
    }
   ],
   "source": [
    "#Visualisation avec un scatterplot (âge client vs taille panier moyen)\n",
    "# # ==============================================================================\n",
    "plt.plot(customers_shop.age, customers_shop.id_prod, 'o', color='purple')\n",
    "\n",
    "plt.xlabel('age')\n",
    "plt.ylabel('Panier moyen (Nbe de produits)')\n",
    "plt.title('Panier moyen en nombre de produits selon l\\'age client')\n",
    "\n",
    "plt.show()"
   ]
  },
  {
   "cell_type": "markdown",
   "id": "2ca04bcc",
   "metadata": {},
   "source": [
    ">>> ### <span style=\"color:dark green\"> 4.5.2 Identifier les clusters clients"
   ]
  },
  {
   "cell_type": "code",
   "execution_count": 119,
   "id": "f5dbb5e6",
   "metadata": {},
   "outputs": [],
   "source": [
    "#Subsets pour identifier les clusters clients \n",
    "# # ==============================================================================\n",
    "customers_shop31 = customers_shop[customers_shop.age < 31]\n",
    "customers_shop3050 = customers_shop[(customers_shop.age > 31) & (customers_shop.age < 50)]\n",
    "customers_shop50 = customers_shop[customers_shop.age > 51]"
   ]
  },
  {
   "cell_type": "code",
   "execution_count": 120,
   "id": "ba7bfded",
   "metadata": {},
   "outputs": [
    {
     "data": {
      "image/png": "[encoded data removed]",
      "text/plain": [
       "<Figure size 432x288 with 1 Axes>"
      ]
     },
     "metadata": {
      "needs_background": "light"
     },
     "output_type": "display_data"
    }
   ],
   "source": [
    "#Visualisation avec scatterplot selon les groupes d'individus identifiés\n",
    "# # ==============================================================================\n",
    "plt.plot(customers_shop31.age, customers_shop31.id_prod, '+', color='green')\n",
    "plt.plot(customers_shop3050.age, customers_shop3050.id_prod, '+', color='blue')\n",
    "plt.plot(customers_shop50.age, customers_shop50.id_prod, '+', color='purple')\n",
    "\n",
    "plt.xlabel('age')\n",
    "plt.ylabel('Panier moyen (Nbe de produits)')\n",
    "plt.title('Panier moyen en nombre de produits selon l\\'age client')\n",
    "\n",
    "plt.show()"
   ]
  },
  {
   "cell_type": "markdown",
   "id": "d45ae7c9",
   "metadata": {},
   "source": [
    ">>> ### <span style=\"color:dark green\"> 4.5.3 Coefficient de corrélation linéaire de Pearson"
   ]
  },
  {
   "cell_type": "code",
   "execution_count": 121,
   "id": "8b487d78",
   "metadata": {},
   "outputs": [
    {
     "data": {
      "text/plain": [
       "(-0.5738876097284992, 5.977096246666381e-08)"
      ]
     },
     "execution_count": 121,
     "metadata": {},
     "output_type": "execute_result"
    }
   ],
   "source": [
    "#Coefficient de corrélation linéaire de Pearson\n",
    "# # ==============================================================================\n",
    "coef_customers_shop = st.pearsonr(customers_shop.age, customers_shop.id_prod)\n",
    "coef_customers_shop "
   ]
  },
  {
   "cell_type": "markdown",
   "id": "6a626376",
   "metadata": {},
   "source": [
    "* Le test de corrélation démontre un certain lien entre l'âge du client et le panier moyen. Par exemple, sur les individus de plus de **50 ans, le panier moyen reste faible**. \n",
    "* Il existe également un lien sur les individus de **18 à 30 ans et de 30 à 50 ans**. La linéarité de la corrélation existe mais selon des corpus de clients **visiblement distincts**, par tranches d'âges."
   ]
  },
  {
   "cell_type": "markdown",
   "id": "2114c112",
   "metadata": {},
   "source": [
    ">> ## <span style=\"color:dark green\"> 4.6 Analyse de la corrélation entre l'âge clients et la catégorie produits"
   ]
  },
  {
   "cell_type": "markdown",
   "id": "833f7f9c",
   "metadata": {},
   "source": [
    "Afin de simplifier l'analyse, il est nécessaire de procéder par un découpage en classes (discrétisation). Donc très clairement le but est de pouvoir réduire nos individus \"âges\" par classes, de manière à pouvoir interpréter plus facilement les résultats."
   ]
  },
  {
   "cell_type": "markdown",
   "id": "78089f67",
   "metadata": {},
   "source": [
    ">>> ### <span style=\"color:dark green\"> 4.6.1 Discrétisation de classes\n",
    "    \n",
    "**Comment choisir le nombre de classes?**"
   ]
  },
  {
   "cell_type": "markdown",
   "id": "5500b2bf",
   "metadata": {},
   "source": [
    "Soit k le nombre de classe à découper et N la population.\n",
    "\n",
    "* Formule de Sturges-Huntsberger : k = 1 + 3.33*log(N,base=10)\n",
    "\n",
    "* Formule Brooks-Carruthers : k = 5*log(N,base=10)"
   ]
  },
  {
   "cell_type": "markdown",
   "id": "a5ba49ab",
   "metadata": {},
   "source": [
    ">>>> #### <span style=\"color:dark green\"> 4.6.1.1 N est le nombre d'observations, ici représentées par les valeurs transactionnelles par âge et par catégorie"
   ]
  },
  {
   "cell_type": "code",
   "execution_count": 122,
   "id": "37b8f542",
   "metadata": {},
   "outputs": [
    {
     "data": {
      "text/plain": [
       "228"
      ]
     },
     "execution_count": 122,
     "metadata": {},
     "output_type": "execute_result"
    }
   ],
   "source": [
    "#N représentées par les valeurs transactionnelles par âge et par catégorie\n",
    "# # ==============================================================================\n",
    "len(df.groupby(['age', 'categ']).count().reset_index())"
   ]
  },
  {
   "cell_type": "markdown",
   "id": "190d7245",
   "metadata": {},
   "source": [
    ">>>> #### <span style=\"color:dark green\"> 4.6.1.2 Formule de Huntsberger"
   ]
  },
  {
   "cell_type": "code",
   "execution_count": 123,
   "id": "18a74d44",
   "metadata": {},
   "outputs": [
    {
     "data": {
      "text/plain": [
       "8.853419523977076"
      ]
     },
     "execution_count": 123,
     "metadata": {},
     "output_type": "execute_result"
    }
   ],
   "source": [
    "#Formule de Huntsberger : 1 + 3,3*log10(N)\n",
    "# # ==============================================================================\n",
    "1 + ((10/3) * mth.log10(227))"
   ]
  },
  {
   "cell_type": "markdown",
   "id": "ebf3286e",
   "metadata": {},
   "source": [
    ">>>> #### <span style=\"color:dark green\"> 4.6.1.3 Formule de Brooks-Carruthers"
   ]
  },
  {
   "cell_type": "code",
   "execution_count": null,
   "id": "a2a7a563",
   "metadata": {},
   "outputs": [],
   "source": []
  },
  {
   "cell_type": "code",
   "execution_count": 124,
   "id": "d52051ea",
   "metadata": {},
   "outputs": [
    {
     "data": {
      "text/plain": [
       "11.780129285965613"
      ]
     },
     "execution_count": 124,
     "metadata": {},
     "output_type": "execute_result"
    }
   ],
   "source": [
    "#Formule de Brooks-Carruthers : 5*log10(N)\n",
    "# # ==============================================================================\n",
    "5 * mth.log10(227)"
   ]
  },
  {
   "cell_type": "markdown",
   "id": "bb622a86",
   "metadata": {},
   "source": [
    "Dans notre contexte, nous pouvons retenir un nombre de classes de 9."
   ]
  },
  {
   "cell_type": "code",
   "execution_count": 125,
   "id": "480724e5",
   "metadata": {},
   "outputs": [
    {
     "data": {
      "text/html": [
       "<div>\n",
       "<style scoped>\n",
       "    .dataframe tbody tr th:only-of-type {\n",
       "        vertical-align: middle;\n",
       "    }\n",
       "\n",
       "    .dataframe tbody tr th {\n",
       "        vertical-align: top;\n",
       "    }\n",
       "\n",
       "    .dataframe thead th {\n",
       "        text-align: right;\n",
       "    }\n",
       "</style>\n",
       "<table border=\"1\" class=\"dataframe\">\n",
       "  <thead>\n",
       "    <tr style=\"text-align: right;\">\n",
       "      <th></th>\n",
       "      <th>age</th>\n",
       "      <th>categ</th>\n",
       "      <th>session_id</th>\n",
       "    </tr>\n",
       "  </thead>\n",
       "  <tbody>\n",
       "    <tr>\n",
       "      <th>0</th>\n",
       "      <td>18</td>\n",
       "      <td>0.0</td>\n",
       "      <td>3418</td>\n",
       "    </tr>\n",
       "    <tr>\n",
       "      <th>1</th>\n",
       "      <td>18</td>\n",
       "      <td>1.0</td>\n",
       "      <td>5719</td>\n",
       "    </tr>\n",
       "    <tr>\n",
       "      <th>2</th>\n",
       "      <td>18</td>\n",
       "      <td>2.0</td>\n",
       "      <td>6012</td>\n",
       "    </tr>\n",
       "    <tr>\n",
       "      <th>3</th>\n",
       "      <td>19</td>\n",
       "      <td>0.0</td>\n",
       "      <td>909</td>\n",
       "    </tr>\n",
       "    <tr>\n",
       "      <th>4</th>\n",
       "      <td>19</td>\n",
       "      <td>1.0</td>\n",
       "      <td>1678</td>\n",
       "    </tr>\n",
       "  </tbody>\n",
       "</table>\n",
       "</div>"
      ],
      "text/plain": [
       "   age  categ  session_id\n",
       "0   18    0.0        3418\n",
       "1   18    1.0        5719\n",
       "2   18    2.0        6012\n",
       "3   19    0.0         909\n",
       "4   19    1.0        1678"
      ]
     },
     "execution_count": 125,
     "metadata": {},
     "output_type": "execute_result"
    }
   ],
   "source": [
    "#Méthode .groupby() pour agréger les données selon l'âge et la catégorie\n",
    "# # ==============================================================================\n",
    "age_categ = df.groupby(['age', 'categ']).count().reset_index()\n",
    "age_categ = age_categ[['age', 'categ', 'session_id']]\n",
    "age_categ.head()"
   ]
  },
  {
   "cell_type": "code",
   "execution_count": 126,
   "id": "d6316ce4",
   "metadata": {},
   "outputs": [
    {
     "data": {
      "text/html": [
       "<div>\n",
       "<style scoped>\n",
       "    .dataframe tbody tr th:only-of-type {\n",
       "        vertical-align: middle;\n",
       "    }\n",
       "\n",
       "    .dataframe tbody tr th {\n",
       "        vertical-align: top;\n",
       "    }\n",
       "\n",
       "    .dataframe thead th {\n",
       "        text-align: right;\n",
       "    }\n",
       "</style>\n",
       "<table border=\"1\" class=\"dataframe\">\n",
       "  <thead>\n",
       "    <tr style=\"text-align: right;\">\n",
       "      <th></th>\n",
       "      <th>age</th>\n",
       "      <th>categ</th>\n",
       "      <th>session_id</th>\n",
       "    </tr>\n",
       "  </thead>\n",
       "  <tbody>\n",
       "    <tr>\n",
       "      <th>0</th>\n",
       "      <td>(17.925, 26.333]</td>\n",
       "      <td>0.0</td>\n",
       "      <td>12041</td>\n",
       "    </tr>\n",
       "    <tr>\n",
       "      <th>1</th>\n",
       "      <td>(17.925, 26.333]</td>\n",
       "      <td>1.0</td>\n",
       "      <td>21906</td>\n",
       "    </tr>\n",
       "    <tr>\n",
       "      <th>2</th>\n",
       "      <td>(17.925, 26.333]</td>\n",
       "      <td>2.0</td>\n",
       "      <td>24694</td>\n",
       "    </tr>\n",
       "    <tr>\n",
       "      <th>3</th>\n",
       "      <td>(26.333, 34.667]</td>\n",
       "      <td>0.0</td>\n",
       "      <td>62904</td>\n",
       "    </tr>\n",
       "    <tr>\n",
       "      <th>4</th>\n",
       "      <td>(26.333, 34.667]</td>\n",
       "      <td>1.0</td>\n",
       "      <td>25576</td>\n",
       "    </tr>\n",
       "    <tr>\n",
       "      <th>5</th>\n",
       "      <td>(26.333, 34.667]</td>\n",
       "      <td>2.0</td>\n",
       "      <td>8810</td>\n",
       "    </tr>\n",
       "    <tr>\n",
       "      <th>6</th>\n",
       "      <td>(34.667, 43.0]</td>\n",
       "      <td>0.0</td>\n",
       "      <td>160818</td>\n",
       "    </tr>\n",
       "    <tr>\n",
       "      <th>7</th>\n",
       "      <td>(34.667, 43.0]</td>\n",
       "      <td>1.0</td>\n",
       "      <td>49330</td>\n",
       "    </tr>\n",
       "    <tr>\n",
       "      <th>8</th>\n",
       "      <td>(34.667, 43.0]</td>\n",
       "      <td>2.0</td>\n",
       "      <td>714</td>\n",
       "    </tr>\n",
       "    <tr>\n",
       "      <th>9</th>\n",
       "      <td>(43.0, 51.333]</td>\n",
       "      <td>0.0</td>\n",
       "      <td>104486</td>\n",
       "    </tr>\n",
       "  </tbody>\n",
       "</table>\n",
       "</div>"
      ],
      "text/plain": [
       "                age  categ  session_id\n",
       "0  (17.925, 26.333]    0.0       12041\n",
       "1  (17.925, 26.333]    1.0       21906\n",
       "2  (17.925, 26.333]    2.0       24694\n",
       "3  (26.333, 34.667]    0.0       62904\n",
       "4  (26.333, 34.667]    1.0       25576\n",
       "5  (26.333, 34.667]    2.0        8810\n",
       "6    (34.667, 43.0]    0.0      160818\n",
       "7    (34.667, 43.0]    1.0       49330\n",
       "8    (34.667, 43.0]    2.0         714\n",
       "9    (43.0, 51.333]    0.0      104486"
      ]
     },
     "execution_count": 126,
     "metadata": {},
     "output_type": "execute_result"
    }
   ],
   "source": [
    "#Méthode .cut() pour créer les 9 groupes d'âges, une segmentation des individus 'age'\n",
    "# # ==============================================================================\n",
    "age_categ['age']= pd.cut(age_categ['age'], 9)\n",
    "age_categ = age_categ.groupby(['age','categ']).sum().reset_index()\n",
    "age_categ.head(10)"
   ]
  },
  {
   "cell_type": "code",
   "execution_count": 127,
   "id": "62e69080",
   "metadata": {},
   "outputs": [
    {
     "data": {
      "image/png": "[encoded data removed]",
      "text/plain": [
       "<Figure size 1584x864 with 1 Axes>"
      ]
     },
     "metadata": {
      "needs_background": "light"
     },
     "output_type": "display_data"
    }
   ],
   "source": [
    "#Visualisation rapide avec une BarPlot Seaborn\n",
    "# # ==============================================================================\n",
    "fig, ax = plt.subplots(figsize=(22, 12))\n",
    "sns.barplot(x=\"age\", y=\"session_id\",hue=\"categ\", data=age_categ)\n",
    "\n",
    "ax.set_xlabel('age')\n",
    "ax.set_ylabel('Nombre de produits vendus')\n",
    "ax.set_title('Catégories produits selon l\\'âge client')\n",
    "\n",
    "plt.show()"
   ]
  },
  {
   "cell_type": "code",
   "execution_count": 128,
   "id": "1a0ce479",
   "metadata": {},
   "outputs": [],
   "source": [
    "#Coefficient de corrélation eta carré\n",
    "# # ==============================================================================\n",
    "X = \"categ\" #qualitative\n",
    "Y = \"age\" #quantitative\n",
    "\n",
    "def eta_squared(x,y):\n",
    "    moyenne_y = y.mean()\n",
    "    classes = []\n",
    "    for classe in x.unique():\n",
    "        yi_classe = y[x==classe]\n",
    "        classes.append({'ni': len(yi_classe),\n",
    "                        'moyenne_classe': yi_classe.mean()})\n",
    "    SCT = sum([(yj-moyenne_y)**2 for yj in y])\n",
    "    SCE = sum([c['ni']*(c['moyenne_classe']-moyenne_y)**2 for c in classes])\n",
    "    return SCE/SCT"
   ]
  },
  {
   "cell_type": "code",
   "execution_count": 129,
   "id": "418aa5c5",
   "metadata": {},
   "outputs": [
    {
     "data": {
      "text/plain": [
       "0.35"
      ]
     },
     "execution_count": 129,
     "metadata": {},
     "output_type": "execute_result"
    }
   ],
   "source": [
    "round(eta_squared(age_categ.age, age_categ.session_id), 2)"
   ]
  },
  {
   "cell_type": "markdown",
   "id": "aa3ddbf3",
   "metadata": {},
   "source": [
    "* Le rapport de corrélation **est proche de 0.40**, ce qui précise le précédent graphique dans lequel une certaine **corrélation entre les catégories et l'âge client**. \n",
    "* Il est perceptible de voir le lien que peut avoir une catégorie en fonction d'une tranche d'âges, avec par exemple un **fort succès de la catégorie 0 pour les 34 / 44 ans**, ou à l'inverse une clientèle plus âgée n'adhère quasiment pas à cette catégorie, etc.."
   ]
  },
  {
   "cell_type": "markdown",
   "id": "20cccd51",
   "metadata": {},
   "source": [
    "* Le 39% de la C.A. est générée par la catégorie 1.\n",
    "* Les transactions les plus nombreuses et celles qui génèrent le plus de C.A. sont effectuées par les 35 à 45 ans.\n",
    "* Les ventes par sexe et par catégorie ont des comportements très similaires.\n",
    "* Les montants d'achat les plus notables, selon l'âge du client, se situent dans les tranches d'âge de 18 et 38 ans.\n",
    "* Les achats les plus fréquents sont effectués par les 30 et 50 ans.\n",
    "\n",
    "\n",
    "Recommandations :\n",
    "\n",
    "* Explorez davantage la clientèle professionnelle, qui semble avoir une grande marge de progression.\n",
    "* Maintenir et renouveler l'offre aux clients les plus jeunes qui sont les plus habitués à ce type de commerce en ligne.\n",
    "* Mettez en place une stratégie pour le groupe d'âge qui n'est pas tellement habitué au commerce en ligne.\n",
    "* Être à jour sur les nouvelles tendances afin de maintenir la parité des achats de notre clientèle masculine et féminine."
   ]
  },
  {
   "cell_type": "code",
   "execution_count": null,
   "id": "9776eb90",
   "metadata": {},
   "outputs": [],
   "source": []
  },
  {
   "cell_type": "code",
   "execution_count": null,
   "id": "a70a6e4b",
   "metadata": {},
   "outputs": [],
   "source": []
  },
  {
   "cell_type": "code",
   "execution_count": null,
   "id": "d09c5a0e",
   "metadata": {},
   "outputs": [],
   "source": []
  },
  {
   "cell_type": "code",
   "execution_count": null,
   "id": "494263d1",
   "metadata": {},
   "outputs": [],
   "source": []
  }
 ],
 "metadata": {
  "kernelspec": {
   "display_name": "Python 3",
   "language": "python",
   "name": "python3"
  },
  "language_info": {
   "codemirror_mode": {
    "name": "ipython",
    "version": 3
   },
   "file_extension": ".py",
   "mimetype": "text/x-python",
   "name": "python",
   "nbconvert_exporter": "python",
   "pygments_lexer": "ipython3",
   "version": "3.8.8"
  }
 },
 "nbformat": 4,
 "nbformat_minor": 5
}
